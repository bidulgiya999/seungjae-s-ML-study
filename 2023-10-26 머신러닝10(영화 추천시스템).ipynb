{
 "cells": [
  {
   "cell_type": "markdown",
   "id": "59b08812",
   "metadata": {},
   "source": [
    "### wordnet\n",
    "https://www.nltk.org/howto/wordnet.html"
   ]
  },
  {
   "cell_type": "code",
   "execution_count": 1,
   "id": "936c5762",
   "metadata": {},
   "outputs": [],
   "source": [
    "import pandas as pd\n",
    "import numpy as np\n",
    "import seaborn as sns\n",
    "import matplotlib.pyplot as plt"
   ]
  },
  {
   "cell_type": "code",
   "execution_count": 9,
   "id": "08c4fe36",
   "metadata": {},
   "outputs": [
    {
     "name": "stderr",
     "output_type": "stream",
     "text": [
      "[nltk_data] Downloading package omw-1.4 to\n",
      "[nltk_data]     C:\\Users\\user\\AppData\\Roaming\\nltk_data...\n"
     ]
    },
    {
     "data": {
      "text/plain": [
       "True"
      ]
     },
     "execution_count": 9,
     "metadata": {},
     "output_type": "execute_result"
    }
   ],
   "source": [
    "import nltk\n",
    "nltk.download('omw-1.4')"
   ]
  },
  {
   "cell_type": "code",
   "execution_count": 10,
   "id": "e3097618",
   "metadata": {},
   "outputs": [
    {
     "name": "stderr",
     "output_type": "stream",
     "text": [
      "[nltk_data] Downloading package wordnet to\n",
      "[nltk_data]     C:\\Users\\user\\AppData\\Roaming\\nltk_data...\n",
      "[nltk_data]   Package wordnet is already up-to-date!\n"
     ]
    },
    {
     "data": {
      "text/plain": [
       "True"
      ]
     },
     "execution_count": 10,
     "metadata": {},
     "output_type": "execute_result"
    }
   ],
   "source": [
    "import nltk\n",
    "nltk.download('wordnet')"
   ]
  },
  {
   "cell_type": "code",
   "execution_count": 11,
   "id": "066f5aad",
   "metadata": {},
   "outputs": [],
   "source": [
    "from sklearn.feature_extraction.text import TfidfVectorizer\n",
    "from sklearn.feature_extraction.text import CountVectorizer\n",
    "from sklearn.metrics.pairwise import cosine_similarity"
   ]
  },
  {
   "cell_type": "code",
   "execution_count": 12,
   "id": "f0e891d5",
   "metadata": {},
   "outputs": [],
   "source": [
    "from nltk.corpus import wordnet"
   ]
  },
  {
   "cell_type": "code",
   "execution_count": 13,
   "id": "177ba9c4",
   "metadata": {},
   "outputs": [
    {
     "data": {
      "text/plain": [
       "[Synset('plan.n.01'),\n",
       " Synset('design.n.02'),\n",
       " Synset('plan.n.03'),\n",
       " Synset('plan.v.01'),\n",
       " Synset('plan.v.02'),\n",
       " Synset('plan.v.03'),\n",
       " Synset('design.v.04')]"
      ]
     },
     "execution_count": 13,
     "metadata": {},
     "output_type": "execute_result"
    }
   ],
   "source": [
    "synsets=wordnet.synsets(\"plan\")\n",
    "synsets"
   ]
  },
  {
   "cell_type": "code",
   "execution_count": 14,
   "id": "22772dd2",
   "metadata": {},
   "outputs": [
    {
     "data": {
      "text/plain": [
       "Synset('plan.n.01')"
      ]
     },
     "execution_count": 14,
     "metadata": {},
     "output_type": "execute_result"
    }
   ],
   "source": [
    "plan=wordnet.synset(\"plan.n.01\")\n",
    "plan"
   ]
  },
  {
   "cell_type": "code",
   "execution_count": 15,
   "id": "86dea97e",
   "metadata": {},
   "outputs": [
    {
     "data": {
      "text/plain": [
       "'a series of steps to be carried out or goals to be accomplished'"
      ]
     },
     "execution_count": 15,
     "metadata": {},
     "output_type": "execute_result"
    }
   ],
   "source": [
    "plan.definition()"
   ]
  },
  {
   "cell_type": "code",
   "execution_count": 16,
   "id": "03ddada7",
   "metadata": {},
   "outputs": [
    {
     "data": {
      "text/plain": [
       "Synset('plan.v.01')"
      ]
     },
     "execution_count": 16,
     "metadata": {},
     "output_type": "execute_result"
    }
   ],
   "source": [
    "planv=wordnet.synset(\"plan.v.01\")\n",
    "planv"
   ]
  },
  {
   "cell_type": "code",
   "execution_count": 17,
   "id": "8b104a69",
   "metadata": {},
   "outputs": [
    {
     "data": {
      "text/plain": [
       "'have the will and intention to carry out some action'"
      ]
     },
     "execution_count": 17,
     "metadata": {},
     "output_type": "execute_result"
    }
   ],
   "source": [
    "planv.definition()"
   ]
  },
  {
   "cell_type": "code",
   "execution_count": 18,
   "id": "be36b3a5",
   "metadata": {},
   "outputs": [
    {
     "data": {
      "text/plain": [
       "[Synset('male_child.n.01'),\n",
       " Synset('boy.n.02'),\n",
       " Synset('son.n.01'),\n",
       " Synset('boy.n.04')]"
      ]
     },
     "execution_count": 18,
     "metadata": {},
     "output_type": "execute_result"
    }
   ],
   "source": [
    "#boy man 유사한 단어\n",
    "wordnet.synsets(\"boy\")"
   ]
  },
  {
   "cell_type": "code",
   "execution_count": 19,
   "id": "df5eb665",
   "metadata": {},
   "outputs": [
    {
     "data": {
      "text/plain": [
       "[Synset('man.n.01'),\n",
       " Synset('serviceman.n.01'),\n",
       " Synset('man.n.03'),\n",
       " Synset('homo.n.02'),\n",
       " Synset('man.n.05'),\n",
       " Synset('man.n.06'),\n",
       " Synset('valet.n.01'),\n",
       " Synset('man.n.08'),\n",
       " Synset('man.n.09'),\n",
       " Synset('man.n.10'),\n",
       " Synset('world.n.08'),\n",
       " Synset('man.v.01'),\n",
       " Synset('man.v.02')]"
      ]
     },
     "execution_count": 19,
     "metadata": {},
     "output_type": "execute_result"
    }
   ],
   "source": [
    "wordnet.synsets(\"boy.n.02\")\n",
    "wordnet.synsets(\"man\")"
   ]
  },
  {
   "cell_type": "code",
   "execution_count": 20,
   "id": "f0fc297f",
   "metadata": {},
   "outputs": [],
   "source": [
    "boy=wordnet.synset(\"boy.n.02\")\n",
    "man=wordnet.synset(\"man.n.01\")"
   ]
  },
  {
   "cell_type": "code",
   "execution_count": 21,
   "id": "7792ac79",
   "metadata": {},
   "outputs": [
    {
     "data": {
      "text/plain": [
       "Synset('boy.n.02')"
      ]
     },
     "execution_count": 21,
     "metadata": {},
     "output_type": "execute_result"
    }
   ],
   "source": [
    "boy"
   ]
  },
  {
   "cell_type": "code",
   "execution_count": 22,
   "id": "c37a4e4c",
   "metadata": {},
   "outputs": [
    {
     "data": {
      "text/plain": [
       "Synset('man.n.01')"
      ]
     },
     "execution_count": 22,
     "metadata": {},
     "output_type": "execute_result"
    }
   ],
   "source": [
    "man"
   ]
  },
  {
   "cell_type": "code",
   "execution_count": 23,
   "id": "c0cf6a81",
   "metadata": {},
   "outputs": [
    {
     "data": {
      "text/plain": [
       "0.5"
      ]
     },
     "execution_count": 23,
     "metadata": {},
     "output_type": "execute_result"
    }
   ],
   "source": [
    "boy.path_similarity(man)"
   ]
  },
  {
   "cell_type": "code",
   "execution_count": 24,
   "id": "3d9c2df3",
   "metadata": {},
   "outputs": [
    {
     "data": {
      "text/plain": [
       "[Synset('car.n.01'),\n",
       " Synset('car.n.02'),\n",
       " Synset('car.n.03'),\n",
       " Synset('car.n.04'),\n",
       " Synset('cable_car.n.01')]"
      ]
     },
     "execution_count": 24,
     "metadata": {},
     "output_type": "execute_result"
    }
   ],
   "source": [
    "# car단어에 5개의 동의어 그룹이 있음\n",
    "wordnet.synsets(\"car\")"
   ]
  },
  {
   "cell_type": "code",
   "execution_count": 25,
   "id": "e337bfc5",
   "metadata": {},
   "outputs": [
    {
     "data": {
      "text/plain": [
       "Synset('car.n.01')"
      ]
     },
     "execution_count": 25,
     "metadata": {},
     "output_type": "execute_result"
    }
   ],
   "source": [
    "wordnet.synsets(\"car\")[0]"
   ]
  },
  {
   "cell_type": "code",
   "execution_count": 26,
   "id": "d067e1f7",
   "metadata": {},
   "outputs": [
    {
     "data": {
      "text/plain": [
       "'a motor vehicle with four wheels; usually propelled by an internal combustion engine'"
      ]
     },
     "execution_count": 26,
     "metadata": {},
     "output_type": "execute_result"
    }
   ],
   "source": [
    "car=wordnet.synset('car.n.01')\n",
    "car.definition()"
   ]
  },
  {
   "cell_type": "markdown",
   "id": "ab58e5be",
   "metadata": {},
   "source": [
    "### 표제어 따른 동의어"
   ]
  },
  {
   "cell_type": "code",
   "execution_count": 27,
   "id": "bf731e9b",
   "metadata": {},
   "outputs": [
    {
     "data": {
      "text/plain": [
       "['car', 'auto', 'automobile', 'machine', 'motorcar']"
      ]
     },
     "execution_count": 27,
     "metadata": {},
     "output_type": "execute_result"
    }
   ],
   "source": [
    "car.lemma_names()"
   ]
  },
  {
   "cell_type": "code",
   "execution_count": 28,
   "id": "cd19ec8d",
   "metadata": {},
   "outputs": [
    {
     "data": {
      "text/plain": [
       "'a machine for performing calculations automatically'"
      ]
     },
     "execution_count": 28,
     "metadata": {},
     "output_type": "execute_result"
    }
   ],
   "source": [
    "computer=wordnet.synset('computer.n.01')\n",
    "computer.definition()"
   ]
  },
  {
   "cell_type": "code",
   "execution_count": 29,
   "id": "b5cf2a30",
   "metadata": {},
   "outputs": [
    {
     "data": {
      "text/plain": [
       "['computer',\n",
       " 'computing_machine',\n",
       " 'computing_device',\n",
       " 'data_processor',\n",
       " 'electronic_computer',\n",
       " 'information_processing_system']"
      ]
     },
     "execution_count": 29,
     "metadata": {},
     "output_type": "execute_result"
    }
   ],
   "source": [
    "computer.lemma_names()"
   ]
  },
  {
   "cell_type": "code",
   "execution_count": 30,
   "id": "c3e0acd6",
   "metadata": {},
   "outputs": [
    {
     "data": {
      "text/plain": [
       "'English writer and lexicographer (1709-1784)'"
      ]
     },
     "execution_count": 30,
     "metadata": {},
     "output_type": "execute_result"
    }
   ],
   "source": [
    "johnson=wordnet.synset('johnson.n.01')\n",
    "johnson.definition()"
   ]
  },
  {
   "cell_type": "code",
   "execution_count": 31,
   "id": "623005ad",
   "metadata": {},
   "outputs": [
    {
     "data": {
      "text/plain": [
       "['Johnson', 'Samuel_Johnson', 'Dr._Johnson']"
      ]
     },
     "execution_count": 31,
     "metadata": {},
     "output_type": "execute_result"
    }
   ],
   "source": [
    "johnson.lemma_names()"
   ]
  },
  {
   "cell_type": "code",
   "execution_count": 32,
   "id": "31b3ab54",
   "metadata": {},
   "outputs": [
    {
     "name": "stderr",
     "output_type": "stream",
     "text": [
      "C:\\Users\\user\\AppData\\Local\\Temp\\ipykernel_22040\\1422193472.py:22: DtypeWarning: Columns (10) have mixed types. Specify dtype option on import or set low_memory=False.\n",
      "  data=pd.read_csv(\"archive (1)/movies_metadata.csv\")\n"
     ]
    },
    {
     "data": {
      "text/html": [
       "<div>\n",
       "<style scoped>\n",
       "    .dataframe tbody tr th:only-of-type {\n",
       "        vertical-align: middle;\n",
       "    }\n",
       "\n",
       "    .dataframe tbody tr th {\n",
       "        vertical-align: top;\n",
       "    }\n",
       "\n",
       "    .dataframe thead th {\n",
       "        text-align: right;\n",
       "    }\n",
       "</style>\n",
       "<table border=\"1\" class=\"dataframe\">\n",
       "  <thead>\n",
       "    <tr style=\"text-align: right;\">\n",
       "      <th></th>\n",
       "      <th>adult</th>\n",
       "      <th>belongs_to_collection</th>\n",
       "      <th>budget</th>\n",
       "      <th>genres</th>\n",
       "      <th>homepage</th>\n",
       "      <th>id</th>\n",
       "      <th>imdb_id</th>\n",
       "      <th>original_language</th>\n",
       "      <th>original_title</th>\n",
       "      <th>overview</th>\n",
       "      <th>...</th>\n",
       "      <th>release_date</th>\n",
       "      <th>revenue</th>\n",
       "      <th>runtime</th>\n",
       "      <th>spoken_languages</th>\n",
       "      <th>status</th>\n",
       "      <th>tagline</th>\n",
       "      <th>title</th>\n",
       "      <th>video</th>\n",
       "      <th>vote_average</th>\n",
       "      <th>vote_count</th>\n",
       "    </tr>\n",
       "  </thead>\n",
       "  <tbody>\n",
       "    <tr>\n",
       "      <th>0</th>\n",
       "      <td>False</td>\n",
       "      <td>{'id': 10194, 'name': 'Toy Story Collection', ...</td>\n",
       "      <td>30000000</td>\n",
       "      <td>[{'id': 16, 'name': 'Animation'}, {'id': 35, '...</td>\n",
       "      <td>http://toystory.disney.com/toy-story</td>\n",
       "      <td>862</td>\n",
       "      <td>tt0114709</td>\n",
       "      <td>en</td>\n",
       "      <td>Toy Story</td>\n",
       "      <td>Led by Woody, Andy's toys live happily in his ...</td>\n",
       "      <td>...</td>\n",
       "      <td>1995-10-30</td>\n",
       "      <td>373554033.0</td>\n",
       "      <td>81.0</td>\n",
       "      <td>[{'iso_639_1': 'en', 'name': 'English'}]</td>\n",
       "      <td>Released</td>\n",
       "      <td>NaN</td>\n",
       "      <td>Toy Story</td>\n",
       "      <td>False</td>\n",
       "      <td>7.7</td>\n",
       "      <td>5415.0</td>\n",
       "    </tr>\n",
       "    <tr>\n",
       "      <th>1</th>\n",
       "      <td>False</td>\n",
       "      <td>NaN</td>\n",
       "      <td>65000000</td>\n",
       "      <td>[{'id': 12, 'name': 'Adventure'}, {'id': 14, '...</td>\n",
       "      <td>NaN</td>\n",
       "      <td>8844</td>\n",
       "      <td>tt0113497</td>\n",
       "      <td>en</td>\n",
       "      <td>Jumanji</td>\n",
       "      <td>When siblings Judy and Peter discover an encha...</td>\n",
       "      <td>...</td>\n",
       "      <td>1995-12-15</td>\n",
       "      <td>262797249.0</td>\n",
       "      <td>104.0</td>\n",
       "      <td>[{'iso_639_1': 'en', 'name': 'English'}, {'iso...</td>\n",
       "      <td>Released</td>\n",
       "      <td>Roll the dice and unleash the excitement!</td>\n",
       "      <td>Jumanji</td>\n",
       "      <td>False</td>\n",
       "      <td>6.9</td>\n",
       "      <td>2413.0</td>\n",
       "    </tr>\n",
       "    <tr>\n",
       "      <th>2</th>\n",
       "      <td>False</td>\n",
       "      <td>{'id': 119050, 'name': 'Grumpy Old Men Collect...</td>\n",
       "      <td>0</td>\n",
       "      <td>[{'id': 10749, 'name': 'Romance'}, {'id': 35, ...</td>\n",
       "      <td>NaN</td>\n",
       "      <td>15602</td>\n",
       "      <td>tt0113228</td>\n",
       "      <td>en</td>\n",
       "      <td>Grumpier Old Men</td>\n",
       "      <td>A family wedding reignites the ancient feud be...</td>\n",
       "      <td>...</td>\n",
       "      <td>1995-12-22</td>\n",
       "      <td>0.0</td>\n",
       "      <td>101.0</td>\n",
       "      <td>[{'iso_639_1': 'en', 'name': 'English'}]</td>\n",
       "      <td>Released</td>\n",
       "      <td>Still Yelling. Still Fighting. Still Ready for...</td>\n",
       "      <td>Grumpier Old Men</td>\n",
       "      <td>False</td>\n",
       "      <td>6.5</td>\n",
       "      <td>92.0</td>\n",
       "    </tr>\n",
       "    <tr>\n",
       "      <th>3</th>\n",
       "      <td>False</td>\n",
       "      <td>NaN</td>\n",
       "      <td>16000000</td>\n",
       "      <td>[{'id': 35, 'name': 'Comedy'}, {'id': 18, 'nam...</td>\n",
       "      <td>NaN</td>\n",
       "      <td>31357</td>\n",
       "      <td>tt0114885</td>\n",
       "      <td>en</td>\n",
       "      <td>Waiting to Exhale</td>\n",
       "      <td>Cheated on, mistreated and stepped on, the wom...</td>\n",
       "      <td>...</td>\n",
       "      <td>1995-12-22</td>\n",
       "      <td>81452156.0</td>\n",
       "      <td>127.0</td>\n",
       "      <td>[{'iso_639_1': 'en', 'name': 'English'}]</td>\n",
       "      <td>Released</td>\n",
       "      <td>Friends are the people who let you be yourself...</td>\n",
       "      <td>Waiting to Exhale</td>\n",
       "      <td>False</td>\n",
       "      <td>6.1</td>\n",
       "      <td>34.0</td>\n",
       "    </tr>\n",
       "    <tr>\n",
       "      <th>4</th>\n",
       "      <td>False</td>\n",
       "      <td>{'id': 96871, 'name': 'Father of the Bride Col...</td>\n",
       "      <td>0</td>\n",
       "      <td>[{'id': 35, 'name': 'Comedy'}]</td>\n",
       "      <td>NaN</td>\n",
       "      <td>11862</td>\n",
       "      <td>tt0113041</td>\n",
       "      <td>en</td>\n",
       "      <td>Father of the Bride Part II</td>\n",
       "      <td>Just when George Banks has recovered from his ...</td>\n",
       "      <td>...</td>\n",
       "      <td>1995-02-10</td>\n",
       "      <td>76578911.0</td>\n",
       "      <td>106.0</td>\n",
       "      <td>[{'iso_639_1': 'en', 'name': 'English'}]</td>\n",
       "      <td>Released</td>\n",
       "      <td>Just When His World Is Back To Normal... He's ...</td>\n",
       "      <td>Father of the Bride Part II</td>\n",
       "      <td>False</td>\n",
       "      <td>5.7</td>\n",
       "      <td>173.0</td>\n",
       "    </tr>\n",
       "    <tr>\n",
       "      <th>...</th>\n",
       "      <td>...</td>\n",
       "      <td>...</td>\n",
       "      <td>...</td>\n",
       "      <td>...</td>\n",
       "      <td>...</td>\n",
       "      <td>...</td>\n",
       "      <td>...</td>\n",
       "      <td>...</td>\n",
       "      <td>...</td>\n",
       "      <td>...</td>\n",
       "      <td>...</td>\n",
       "      <td>...</td>\n",
       "      <td>...</td>\n",
       "      <td>...</td>\n",
       "      <td>...</td>\n",
       "      <td>...</td>\n",
       "      <td>...</td>\n",
       "      <td>...</td>\n",
       "      <td>...</td>\n",
       "      <td>...</td>\n",
       "      <td>...</td>\n",
       "    </tr>\n",
       "    <tr>\n",
       "      <th>45461</th>\n",
       "      <td>False</td>\n",
       "      <td>NaN</td>\n",
       "      <td>0</td>\n",
       "      <td>[{'id': 18, 'name': 'Drama'}, {'id': 10751, 'n...</td>\n",
       "      <td>http://www.imdb.com/title/tt6209470/</td>\n",
       "      <td>439050</td>\n",
       "      <td>tt6209470</td>\n",
       "      <td>fa</td>\n",
       "      <td>رگ خواب</td>\n",
       "      <td>Rising and falling between a man and woman.</td>\n",
       "      <td>...</td>\n",
       "      <td>NaN</td>\n",
       "      <td>0.0</td>\n",
       "      <td>90.0</td>\n",
       "      <td>[{'iso_639_1': 'fa', 'name': 'فارسی'}]</td>\n",
       "      <td>Released</td>\n",
       "      <td>Rising and falling between a man and woman</td>\n",
       "      <td>Subdue</td>\n",
       "      <td>False</td>\n",
       "      <td>4.0</td>\n",
       "      <td>1.0</td>\n",
       "    </tr>\n",
       "    <tr>\n",
       "      <th>45462</th>\n",
       "      <td>False</td>\n",
       "      <td>NaN</td>\n",
       "      <td>0</td>\n",
       "      <td>[{'id': 18, 'name': 'Drama'}]</td>\n",
       "      <td>NaN</td>\n",
       "      <td>111109</td>\n",
       "      <td>tt2028550</td>\n",
       "      <td>tl</td>\n",
       "      <td>Siglo ng Pagluluwal</td>\n",
       "      <td>An artist struggles to finish his work while a...</td>\n",
       "      <td>...</td>\n",
       "      <td>2011-11-17</td>\n",
       "      <td>0.0</td>\n",
       "      <td>360.0</td>\n",
       "      <td>[{'iso_639_1': 'tl', 'name': ''}]</td>\n",
       "      <td>Released</td>\n",
       "      <td>NaN</td>\n",
       "      <td>Century of Birthing</td>\n",
       "      <td>False</td>\n",
       "      <td>9.0</td>\n",
       "      <td>3.0</td>\n",
       "    </tr>\n",
       "    <tr>\n",
       "      <th>45463</th>\n",
       "      <td>False</td>\n",
       "      <td>NaN</td>\n",
       "      <td>0</td>\n",
       "      <td>[{'id': 28, 'name': 'Action'}, {'id': 18, 'nam...</td>\n",
       "      <td>NaN</td>\n",
       "      <td>67758</td>\n",
       "      <td>tt0303758</td>\n",
       "      <td>en</td>\n",
       "      <td>Betrayal</td>\n",
       "      <td>When one of her hits goes wrong, a professiona...</td>\n",
       "      <td>...</td>\n",
       "      <td>2003-08-01</td>\n",
       "      <td>0.0</td>\n",
       "      <td>90.0</td>\n",
       "      <td>[{'iso_639_1': 'en', 'name': 'English'}]</td>\n",
       "      <td>Released</td>\n",
       "      <td>A deadly game of wits.</td>\n",
       "      <td>Betrayal</td>\n",
       "      <td>False</td>\n",
       "      <td>3.8</td>\n",
       "      <td>6.0</td>\n",
       "    </tr>\n",
       "    <tr>\n",
       "      <th>45464</th>\n",
       "      <td>False</td>\n",
       "      <td>NaN</td>\n",
       "      <td>0</td>\n",
       "      <td>[]</td>\n",
       "      <td>NaN</td>\n",
       "      <td>227506</td>\n",
       "      <td>tt0008536</td>\n",
       "      <td>en</td>\n",
       "      <td>Satana likuyushchiy</td>\n",
       "      <td>In a small town live two brothers, one a minis...</td>\n",
       "      <td>...</td>\n",
       "      <td>1917-10-21</td>\n",
       "      <td>0.0</td>\n",
       "      <td>87.0</td>\n",
       "      <td>[]</td>\n",
       "      <td>Released</td>\n",
       "      <td>NaN</td>\n",
       "      <td>Satan Triumphant</td>\n",
       "      <td>False</td>\n",
       "      <td>0.0</td>\n",
       "      <td>0.0</td>\n",
       "    </tr>\n",
       "    <tr>\n",
       "      <th>45465</th>\n",
       "      <td>False</td>\n",
       "      <td>NaN</td>\n",
       "      <td>0</td>\n",
       "      <td>[]</td>\n",
       "      <td>NaN</td>\n",
       "      <td>461257</td>\n",
       "      <td>tt6980792</td>\n",
       "      <td>en</td>\n",
       "      <td>Queerama</td>\n",
       "      <td>50 years after decriminalisation of homosexual...</td>\n",
       "      <td>...</td>\n",
       "      <td>2017-06-09</td>\n",
       "      <td>0.0</td>\n",
       "      <td>75.0</td>\n",
       "      <td>[{'iso_639_1': 'en', 'name': 'English'}]</td>\n",
       "      <td>Released</td>\n",
       "      <td>NaN</td>\n",
       "      <td>Queerama</td>\n",
       "      <td>False</td>\n",
       "      <td>0.0</td>\n",
       "      <td>0.0</td>\n",
       "    </tr>\n",
       "  </tbody>\n",
       "</table>\n",
       "<p>45466 rows × 24 columns</p>\n",
       "</div>"
      ],
      "text/plain": [
       "       adult                              belongs_to_collection    budget  \\\n",
       "0      False  {'id': 10194, 'name': 'Toy Story Collection', ...  30000000   \n",
       "1      False                                                NaN  65000000   \n",
       "2      False  {'id': 119050, 'name': 'Grumpy Old Men Collect...         0   \n",
       "3      False                                                NaN  16000000   \n",
       "4      False  {'id': 96871, 'name': 'Father of the Bride Col...         0   \n",
       "...      ...                                                ...       ...   \n",
       "45461  False                                                NaN         0   \n",
       "45462  False                                                NaN         0   \n",
       "45463  False                                                NaN         0   \n",
       "45464  False                                                NaN         0   \n",
       "45465  False                                                NaN         0   \n",
       "\n",
       "                                                  genres  \\\n",
       "0      [{'id': 16, 'name': 'Animation'}, {'id': 35, '...   \n",
       "1      [{'id': 12, 'name': 'Adventure'}, {'id': 14, '...   \n",
       "2      [{'id': 10749, 'name': 'Romance'}, {'id': 35, ...   \n",
       "3      [{'id': 35, 'name': 'Comedy'}, {'id': 18, 'nam...   \n",
       "4                         [{'id': 35, 'name': 'Comedy'}]   \n",
       "...                                                  ...   \n",
       "45461  [{'id': 18, 'name': 'Drama'}, {'id': 10751, 'n...   \n",
       "45462                      [{'id': 18, 'name': 'Drama'}]   \n",
       "45463  [{'id': 28, 'name': 'Action'}, {'id': 18, 'nam...   \n",
       "45464                                                 []   \n",
       "45465                                                 []   \n",
       "\n",
       "                                   homepage      id    imdb_id  \\\n",
       "0      http://toystory.disney.com/toy-story     862  tt0114709   \n",
       "1                                       NaN    8844  tt0113497   \n",
       "2                                       NaN   15602  tt0113228   \n",
       "3                                       NaN   31357  tt0114885   \n",
       "4                                       NaN   11862  tt0113041   \n",
       "...                                     ...     ...        ...   \n",
       "45461  http://www.imdb.com/title/tt6209470/  439050  tt6209470   \n",
       "45462                                   NaN  111109  tt2028550   \n",
       "45463                                   NaN   67758  tt0303758   \n",
       "45464                                   NaN  227506  tt0008536   \n",
       "45465                                   NaN  461257  tt6980792   \n",
       "\n",
       "      original_language               original_title  \\\n",
       "0                    en                    Toy Story   \n",
       "1                    en                      Jumanji   \n",
       "2                    en             Grumpier Old Men   \n",
       "3                    en            Waiting to Exhale   \n",
       "4                    en  Father of the Bride Part II   \n",
       "...                 ...                          ...   \n",
       "45461                fa                      رگ خواب   \n",
       "45462                tl          Siglo ng Pagluluwal   \n",
       "45463                en                     Betrayal   \n",
       "45464                en          Satana likuyushchiy   \n",
       "45465                en                     Queerama   \n",
       "\n",
       "                                                overview  ... release_date  \\\n",
       "0      Led by Woody, Andy's toys live happily in his ...  ...   1995-10-30   \n",
       "1      When siblings Judy and Peter discover an encha...  ...   1995-12-15   \n",
       "2      A family wedding reignites the ancient feud be...  ...   1995-12-22   \n",
       "3      Cheated on, mistreated and stepped on, the wom...  ...   1995-12-22   \n",
       "4      Just when George Banks has recovered from his ...  ...   1995-02-10   \n",
       "...                                                  ...  ...          ...   \n",
       "45461        Rising and falling between a man and woman.  ...          NaN   \n",
       "45462  An artist struggles to finish his work while a...  ...   2011-11-17   \n",
       "45463  When one of her hits goes wrong, a professiona...  ...   2003-08-01   \n",
       "45464  In a small town live two brothers, one a minis...  ...   1917-10-21   \n",
       "45465  50 years after decriminalisation of homosexual...  ...   2017-06-09   \n",
       "\n",
       "           revenue runtime                                   spoken_languages  \\\n",
       "0      373554033.0    81.0           [{'iso_639_1': 'en', 'name': 'English'}]   \n",
       "1      262797249.0   104.0  [{'iso_639_1': 'en', 'name': 'English'}, {'iso...   \n",
       "2              0.0   101.0           [{'iso_639_1': 'en', 'name': 'English'}]   \n",
       "3       81452156.0   127.0           [{'iso_639_1': 'en', 'name': 'English'}]   \n",
       "4       76578911.0   106.0           [{'iso_639_1': 'en', 'name': 'English'}]   \n",
       "...            ...     ...                                                ...   \n",
       "45461          0.0    90.0             [{'iso_639_1': 'fa', 'name': 'فارسی'}]   \n",
       "45462          0.0   360.0                  [{'iso_639_1': 'tl', 'name': ''}]   \n",
       "45463          0.0    90.0           [{'iso_639_1': 'en', 'name': 'English'}]   \n",
       "45464          0.0    87.0                                                 []   \n",
       "45465          0.0    75.0           [{'iso_639_1': 'en', 'name': 'English'}]   \n",
       "\n",
       "         status                                            tagline  \\\n",
       "0      Released                                                NaN   \n",
       "1      Released          Roll the dice and unleash the excitement!   \n",
       "2      Released  Still Yelling. Still Fighting. Still Ready for...   \n",
       "3      Released  Friends are the people who let you be yourself...   \n",
       "4      Released  Just When His World Is Back To Normal... He's ...   \n",
       "...         ...                                                ...   \n",
       "45461  Released         Rising and falling between a man and woman   \n",
       "45462  Released                                                NaN   \n",
       "45463  Released                             A deadly game of wits.   \n",
       "45464  Released                                                NaN   \n",
       "45465  Released                                                NaN   \n",
       "\n",
       "                             title  video vote_average vote_count  \n",
       "0                        Toy Story  False          7.7     5415.0  \n",
       "1                          Jumanji  False          6.9     2413.0  \n",
       "2                 Grumpier Old Men  False          6.5       92.0  \n",
       "3                Waiting to Exhale  False          6.1       34.0  \n",
       "4      Father of the Bride Part II  False          5.7      173.0  \n",
       "...                            ...    ...          ...        ...  \n",
       "45461                       Subdue  False          4.0        1.0  \n",
       "45462          Century of Birthing  False          9.0        3.0  \n",
       "45463                     Betrayal  False          3.8        6.0  \n",
       "45464             Satan Triumphant  False          0.0        0.0  \n",
       "45465                     Queerama  False          0.0        0.0  \n",
       "\n",
       "[45466 rows x 24 columns]"
      ]
     },
     "execution_count": 32,
     "metadata": {},
     "output_type": "execute_result"
    }
   ],
   "source": [
    "\"\"\"\n",
    "TF-IDF기반 영화 추천 시스템\n",
    "실행과정 : \n",
    "즐겁게 봤던 영화 제목을 입력하세요? Toy Story\n",
    "당신에게 추천하고 싶은 영화 제목은 아래과 같습니다\n",
    "1) \n",
    "2)\n",
    "...\n",
    "10)\n",
    "\n",
    "개발 방법\n",
    "1)overview 열 추출 -> 단어 전처리(불용어 제거, 대소문자, 단어 통일(wordnet), 특수문자 처리, 정규식이용)-> 코퍼스\n",
    "    - 즉 최대한 불필요한 단어 삭제\n",
    "2) tf-idf 행렬 생성\n",
    "3) 코사인유사도를 이용한 영화 추천\n",
    "4) 데이터셋\n",
    "- 5000편 영화\n",
    "\n",
    "5) 카페 제출\n",
    "\"\"\"\n",
    "\n",
    "data=pd.read_csv(\"archive (1)/movies_metadata.csv\")\n",
    "data"
   ]
  },
  {
   "cell_type": "code",
   "execution_count": 33,
   "id": "c8c8d490",
   "metadata": {},
   "outputs": [
    {
     "data": {
      "text/plain": [
       "(45466, 24)"
      ]
     },
     "execution_count": 33,
     "metadata": {},
     "output_type": "execute_result"
    }
   ],
   "source": [
    "data.shape"
   ]
  },
  {
   "cell_type": "markdown",
   "id": "3193c851",
   "metadata": {},
   "source": [
    "### 데이터가 방대해서 5000건으로 사용"
   ]
  },
  {
   "cell_type": "code",
   "execution_count": 34,
   "id": "7ef8e399",
   "metadata": {},
   "outputs": [
    {
     "data": {
      "text/html": [
       "<div>\n",
       "<style scoped>\n",
       "    .dataframe tbody tr th:only-of-type {\n",
       "        vertical-align: middle;\n",
       "    }\n",
       "\n",
       "    .dataframe tbody tr th {\n",
       "        vertical-align: top;\n",
       "    }\n",
       "\n",
       "    .dataframe thead th {\n",
       "        text-align: right;\n",
       "    }\n",
       "</style>\n",
       "<table border=\"1\" class=\"dataframe\">\n",
       "  <thead>\n",
       "    <tr style=\"text-align: right;\">\n",
       "      <th></th>\n",
       "      <th>adult</th>\n",
       "      <th>belongs_to_collection</th>\n",
       "      <th>budget</th>\n",
       "      <th>genres</th>\n",
       "      <th>homepage</th>\n",
       "      <th>id</th>\n",
       "      <th>imdb_id</th>\n",
       "      <th>original_language</th>\n",
       "      <th>original_title</th>\n",
       "      <th>overview</th>\n",
       "      <th>...</th>\n",
       "      <th>release_date</th>\n",
       "      <th>revenue</th>\n",
       "      <th>runtime</th>\n",
       "      <th>spoken_languages</th>\n",
       "      <th>status</th>\n",
       "      <th>tagline</th>\n",
       "      <th>title</th>\n",
       "      <th>video</th>\n",
       "      <th>vote_average</th>\n",
       "      <th>vote_count</th>\n",
       "    </tr>\n",
       "  </thead>\n",
       "  <tbody>\n",
       "    <tr>\n",
       "      <th>0</th>\n",
       "      <td>False</td>\n",
       "      <td>{'id': 10194, 'name': 'Toy Story Collection', ...</td>\n",
       "      <td>30000000</td>\n",
       "      <td>[{'id': 16, 'name': 'Animation'}, {'id': 35, '...</td>\n",
       "      <td>http://toystory.disney.com/toy-story</td>\n",
       "      <td>862</td>\n",
       "      <td>tt0114709</td>\n",
       "      <td>en</td>\n",
       "      <td>Toy Story</td>\n",
       "      <td>Led by Woody, Andy's toys live happily in his ...</td>\n",
       "      <td>...</td>\n",
       "      <td>1995-10-30</td>\n",
       "      <td>373554033.0</td>\n",
       "      <td>81.0</td>\n",
       "      <td>[{'iso_639_1': 'en', 'name': 'English'}]</td>\n",
       "      <td>Released</td>\n",
       "      <td>NaN</td>\n",
       "      <td>Toy Story</td>\n",
       "      <td>False</td>\n",
       "      <td>7.7</td>\n",
       "      <td>5415.0</td>\n",
       "    </tr>\n",
       "    <tr>\n",
       "      <th>1</th>\n",
       "      <td>False</td>\n",
       "      <td>NaN</td>\n",
       "      <td>65000000</td>\n",
       "      <td>[{'id': 12, 'name': 'Adventure'}, {'id': 14, '...</td>\n",
       "      <td>NaN</td>\n",
       "      <td>8844</td>\n",
       "      <td>tt0113497</td>\n",
       "      <td>en</td>\n",
       "      <td>Jumanji</td>\n",
       "      <td>When siblings Judy and Peter discover an encha...</td>\n",
       "      <td>...</td>\n",
       "      <td>1995-12-15</td>\n",
       "      <td>262797249.0</td>\n",
       "      <td>104.0</td>\n",
       "      <td>[{'iso_639_1': 'en', 'name': 'English'}, {'iso...</td>\n",
       "      <td>Released</td>\n",
       "      <td>Roll the dice and unleash the excitement!</td>\n",
       "      <td>Jumanji</td>\n",
       "      <td>False</td>\n",
       "      <td>6.9</td>\n",
       "      <td>2413.0</td>\n",
       "    </tr>\n",
       "    <tr>\n",
       "      <th>2</th>\n",
       "      <td>False</td>\n",
       "      <td>{'id': 119050, 'name': 'Grumpy Old Men Collect...</td>\n",
       "      <td>0</td>\n",
       "      <td>[{'id': 10749, 'name': 'Romance'}, {'id': 35, ...</td>\n",
       "      <td>NaN</td>\n",
       "      <td>15602</td>\n",
       "      <td>tt0113228</td>\n",
       "      <td>en</td>\n",
       "      <td>Grumpier Old Men</td>\n",
       "      <td>A family wedding reignites the ancient feud be...</td>\n",
       "      <td>...</td>\n",
       "      <td>1995-12-22</td>\n",
       "      <td>0.0</td>\n",
       "      <td>101.0</td>\n",
       "      <td>[{'iso_639_1': 'en', 'name': 'English'}]</td>\n",
       "      <td>Released</td>\n",
       "      <td>Still Yelling. Still Fighting. Still Ready for...</td>\n",
       "      <td>Grumpier Old Men</td>\n",
       "      <td>False</td>\n",
       "      <td>6.5</td>\n",
       "      <td>92.0</td>\n",
       "    </tr>\n",
       "    <tr>\n",
       "      <th>3</th>\n",
       "      <td>False</td>\n",
       "      <td>NaN</td>\n",
       "      <td>16000000</td>\n",
       "      <td>[{'id': 35, 'name': 'Comedy'}, {'id': 18, 'nam...</td>\n",
       "      <td>NaN</td>\n",
       "      <td>31357</td>\n",
       "      <td>tt0114885</td>\n",
       "      <td>en</td>\n",
       "      <td>Waiting to Exhale</td>\n",
       "      <td>Cheated on, mistreated and stepped on, the wom...</td>\n",
       "      <td>...</td>\n",
       "      <td>1995-12-22</td>\n",
       "      <td>81452156.0</td>\n",
       "      <td>127.0</td>\n",
       "      <td>[{'iso_639_1': 'en', 'name': 'English'}]</td>\n",
       "      <td>Released</td>\n",
       "      <td>Friends are the people who let you be yourself...</td>\n",
       "      <td>Waiting to Exhale</td>\n",
       "      <td>False</td>\n",
       "      <td>6.1</td>\n",
       "      <td>34.0</td>\n",
       "    </tr>\n",
       "    <tr>\n",
       "      <th>4</th>\n",
       "      <td>False</td>\n",
       "      <td>{'id': 96871, 'name': 'Father of the Bride Col...</td>\n",
       "      <td>0</td>\n",
       "      <td>[{'id': 35, 'name': 'Comedy'}]</td>\n",
       "      <td>NaN</td>\n",
       "      <td>11862</td>\n",
       "      <td>tt0113041</td>\n",
       "      <td>en</td>\n",
       "      <td>Father of the Bride Part II</td>\n",
       "      <td>Just when George Banks has recovered from his ...</td>\n",
       "      <td>...</td>\n",
       "      <td>1995-02-10</td>\n",
       "      <td>76578911.0</td>\n",
       "      <td>106.0</td>\n",
       "      <td>[{'iso_639_1': 'en', 'name': 'English'}]</td>\n",
       "      <td>Released</td>\n",
       "      <td>Just When His World Is Back To Normal... He's ...</td>\n",
       "      <td>Father of the Bride Part II</td>\n",
       "      <td>False</td>\n",
       "      <td>5.7</td>\n",
       "      <td>173.0</td>\n",
       "    </tr>\n",
       "    <tr>\n",
       "      <th>...</th>\n",
       "      <td>...</td>\n",
       "      <td>...</td>\n",
       "      <td>...</td>\n",
       "      <td>...</td>\n",
       "      <td>...</td>\n",
       "      <td>...</td>\n",
       "      <td>...</td>\n",
       "      <td>...</td>\n",
       "      <td>...</td>\n",
       "      <td>...</td>\n",
       "      <td>...</td>\n",
       "      <td>...</td>\n",
       "      <td>...</td>\n",
       "      <td>...</td>\n",
       "      <td>...</td>\n",
       "      <td>...</td>\n",
       "      <td>...</td>\n",
       "      <td>...</td>\n",
       "      <td>...</td>\n",
       "      <td>...</td>\n",
       "      <td>...</td>\n",
       "    </tr>\n",
       "    <tr>\n",
       "      <th>4995</th>\n",
       "      <td>False</td>\n",
       "      <td>NaN</td>\n",
       "      <td>0</td>\n",
       "      <td>[{'id': 53, 'name': 'Thriller'}, {'id': 27, 'n...</td>\n",
       "      <td>NaN</td>\n",
       "      <td>43715</td>\n",
       "      <td>tt0050294</td>\n",
       "      <td>en</td>\n",
       "      <td>The Deadly Mantis</td>\n",
       "      <td>The calving of an Arctic iceberg releases a gi...</td>\n",
       "      <td>...</td>\n",
       "      <td>1957-05-01</td>\n",
       "      <td>0.0</td>\n",
       "      <td>79.0</td>\n",
       "      <td>[{'iso_639_1': 'en', 'name': 'English'}]</td>\n",
       "      <td>Released</td>\n",
       "      <td>This Was the Day That Engulfed the World in Te...</td>\n",
       "      <td>The Deadly Mantis</td>\n",
       "      <td>False</td>\n",
       "      <td>5.3</td>\n",
       "      <td>16.0</td>\n",
       "    </tr>\n",
       "    <tr>\n",
       "      <th>4996</th>\n",
       "      <td>False</td>\n",
       "      <td>NaN</td>\n",
       "      <td>60000000</td>\n",
       "      <td>[{'id': 18, 'name': 'Drama'}]</td>\n",
       "      <td>NaN</td>\n",
       "      <td>10052</td>\n",
       "      <td>tt0259288</td>\n",
       "      <td>en</td>\n",
       "      <td>Dragonfly</td>\n",
       "      <td>A grieving doctor is being contacted by his la...</td>\n",
       "      <td>...</td>\n",
       "      <td>2002-02-22</td>\n",
       "      <td>52322400.0</td>\n",
       "      <td>104.0</td>\n",
       "      <td>[{'iso_639_1': 'en', 'name': 'English'}, {'iso...</td>\n",
       "      <td>Released</td>\n",
       "      <td>When someone you love dies... are they gone fo...</td>\n",
       "      <td>Dragonfly</td>\n",
       "      <td>False</td>\n",
       "      <td>6.2</td>\n",
       "      <td>209.0</td>\n",
       "    </tr>\n",
       "    <tr>\n",
       "      <th>4997</th>\n",
       "      <td>False</td>\n",
       "      <td>{'id': 217704, 'name': 'The Vampire Chronicles...</td>\n",
       "      <td>35000000</td>\n",
       "      <td>[{'id': 18, 'name': 'Drama'}, {'id': 14, 'name...</td>\n",
       "      <td>NaN</td>\n",
       "      <td>11979</td>\n",
       "      <td>tt0238546</td>\n",
       "      <td>en</td>\n",
       "      <td>Queen of the Damned</td>\n",
       "      <td>Lestat de Lioncourt is awakened from his slumb...</td>\n",
       "      <td>...</td>\n",
       "      <td>2002-02-10</td>\n",
       "      <td>45479110.0</td>\n",
       "      <td>101.0</td>\n",
       "      <td>[{'iso_639_1': 'en', 'name': 'English'}]</td>\n",
       "      <td>Released</td>\n",
       "      <td>This time there are no interviews.</td>\n",
       "      <td>Queen of the Damned</td>\n",
       "      <td>False</td>\n",
       "      <td>5.5</td>\n",
       "      <td>247.0</td>\n",
       "    </tr>\n",
       "    <tr>\n",
       "      <th>4998</th>\n",
       "      <td>False</td>\n",
       "      <td>NaN</td>\n",
       "      <td>0</td>\n",
       "      <td>[{'id': 18, 'name': 'Drama'}, {'id': 35, 'name...</td>\n",
       "      <td>NaN</td>\n",
       "      <td>75151</td>\n",
       "      <td>tt0260746</td>\n",
       "      <td>en</td>\n",
       "      <td>Big Bad Love</td>\n",
       "      <td>Vietnam veteran Leon Barlow is struggling as a...</td>\n",
       "      <td>...</td>\n",
       "      <td>2001-10-11</td>\n",
       "      <td>0.0</td>\n",
       "      <td>111.0</td>\n",
       "      <td>[{'iso_639_1': 'en', 'name': 'English'}]</td>\n",
       "      <td>Released</td>\n",
       "      <td>NaN</td>\n",
       "      <td>Big Bad Love</td>\n",
       "      <td>False</td>\n",
       "      <td>6.5</td>\n",
       "      <td>4.0</td>\n",
       "    </tr>\n",
       "    <tr>\n",
       "      <th>4999</th>\n",
       "      <td>False</td>\n",
       "      <td>NaN</td>\n",
       "      <td>0</td>\n",
       "      <td>[{'id': 28, 'name': 'Action'}, {'id': 12, 'nam...</td>\n",
       "      <td>NaN</td>\n",
       "      <td>35868</td>\n",
       "      <td>tt0229002</td>\n",
       "      <td>en</td>\n",
       "      <td>Green Dragon</td>\n",
       "      <td>A tale about Vietnamese refugees sent to an or...</td>\n",
       "      <td>...</td>\n",
       "      <td>2001-01-01</td>\n",
       "      <td>0.0</td>\n",
       "      <td>115.0</td>\n",
       "      <td>[{'iso_639_1': 'vi', 'name': 'Tiếng Việt'}, {'...</td>\n",
       "      <td>Released</td>\n",
       "      <td>NaN</td>\n",
       "      <td>Green Dragon</td>\n",
       "      <td>False</td>\n",
       "      <td>5.5</td>\n",
       "      <td>10.0</td>\n",
       "    </tr>\n",
       "  </tbody>\n",
       "</table>\n",
       "<p>5000 rows × 24 columns</p>\n",
       "</div>"
      ],
      "text/plain": [
       "      adult                              belongs_to_collection    budget  \\\n",
       "0     False  {'id': 10194, 'name': 'Toy Story Collection', ...  30000000   \n",
       "1     False                                                NaN  65000000   \n",
       "2     False  {'id': 119050, 'name': 'Grumpy Old Men Collect...         0   \n",
       "3     False                                                NaN  16000000   \n",
       "4     False  {'id': 96871, 'name': 'Father of the Bride Col...         0   \n",
       "...     ...                                                ...       ...   \n",
       "4995  False                                                NaN         0   \n",
       "4996  False                                                NaN  60000000   \n",
       "4997  False  {'id': 217704, 'name': 'The Vampire Chronicles...  35000000   \n",
       "4998  False                                                NaN         0   \n",
       "4999  False                                                NaN         0   \n",
       "\n",
       "                                                 genres  \\\n",
       "0     [{'id': 16, 'name': 'Animation'}, {'id': 35, '...   \n",
       "1     [{'id': 12, 'name': 'Adventure'}, {'id': 14, '...   \n",
       "2     [{'id': 10749, 'name': 'Romance'}, {'id': 35, ...   \n",
       "3     [{'id': 35, 'name': 'Comedy'}, {'id': 18, 'nam...   \n",
       "4                        [{'id': 35, 'name': 'Comedy'}]   \n",
       "...                                                 ...   \n",
       "4995  [{'id': 53, 'name': 'Thriller'}, {'id': 27, 'n...   \n",
       "4996                      [{'id': 18, 'name': 'Drama'}]   \n",
       "4997  [{'id': 18, 'name': 'Drama'}, {'id': 14, 'name...   \n",
       "4998  [{'id': 18, 'name': 'Drama'}, {'id': 35, 'name...   \n",
       "4999  [{'id': 28, 'name': 'Action'}, {'id': 12, 'nam...   \n",
       "\n",
       "                                  homepage     id    imdb_id  \\\n",
       "0     http://toystory.disney.com/toy-story    862  tt0114709   \n",
       "1                                      NaN   8844  tt0113497   \n",
       "2                                      NaN  15602  tt0113228   \n",
       "3                                      NaN  31357  tt0114885   \n",
       "4                                      NaN  11862  tt0113041   \n",
       "...                                    ...    ...        ...   \n",
       "4995                                   NaN  43715  tt0050294   \n",
       "4996                                   NaN  10052  tt0259288   \n",
       "4997                                   NaN  11979  tt0238546   \n",
       "4998                                   NaN  75151  tt0260746   \n",
       "4999                                   NaN  35868  tt0229002   \n",
       "\n",
       "     original_language               original_title  \\\n",
       "0                   en                    Toy Story   \n",
       "1                   en                      Jumanji   \n",
       "2                   en             Grumpier Old Men   \n",
       "3                   en            Waiting to Exhale   \n",
       "4                   en  Father of the Bride Part II   \n",
       "...                ...                          ...   \n",
       "4995                en            The Deadly Mantis   \n",
       "4996                en                    Dragonfly   \n",
       "4997                en          Queen of the Damned   \n",
       "4998                en                 Big Bad Love   \n",
       "4999                en                 Green Dragon   \n",
       "\n",
       "                                               overview  ... release_date  \\\n",
       "0     Led by Woody, Andy's toys live happily in his ...  ...   1995-10-30   \n",
       "1     When siblings Judy and Peter discover an encha...  ...   1995-12-15   \n",
       "2     A family wedding reignites the ancient feud be...  ...   1995-12-22   \n",
       "3     Cheated on, mistreated and stepped on, the wom...  ...   1995-12-22   \n",
       "4     Just when George Banks has recovered from his ...  ...   1995-02-10   \n",
       "...                                                 ...  ...          ...   \n",
       "4995  The calving of an Arctic iceberg releases a gi...  ...   1957-05-01   \n",
       "4996  A grieving doctor is being contacted by his la...  ...   2002-02-22   \n",
       "4997  Lestat de Lioncourt is awakened from his slumb...  ...   2002-02-10   \n",
       "4998  Vietnam veteran Leon Barlow is struggling as a...  ...   2001-10-11   \n",
       "4999  A tale about Vietnamese refugees sent to an or...  ...   2001-01-01   \n",
       "\n",
       "          revenue runtime                                   spoken_languages  \\\n",
       "0     373554033.0    81.0           [{'iso_639_1': 'en', 'name': 'English'}]   \n",
       "1     262797249.0   104.0  [{'iso_639_1': 'en', 'name': 'English'}, {'iso...   \n",
       "2             0.0   101.0           [{'iso_639_1': 'en', 'name': 'English'}]   \n",
       "3      81452156.0   127.0           [{'iso_639_1': 'en', 'name': 'English'}]   \n",
       "4      76578911.0   106.0           [{'iso_639_1': 'en', 'name': 'English'}]   \n",
       "...           ...     ...                                                ...   \n",
       "4995          0.0    79.0           [{'iso_639_1': 'en', 'name': 'English'}]   \n",
       "4996   52322400.0   104.0  [{'iso_639_1': 'en', 'name': 'English'}, {'iso...   \n",
       "4997   45479110.0   101.0           [{'iso_639_1': 'en', 'name': 'English'}]   \n",
       "4998          0.0   111.0           [{'iso_639_1': 'en', 'name': 'English'}]   \n",
       "4999          0.0   115.0  [{'iso_639_1': 'vi', 'name': 'Tiếng Việt'}, {'...   \n",
       "\n",
       "        status                                            tagline  \\\n",
       "0     Released                                                NaN   \n",
       "1     Released          Roll the dice and unleash the excitement!   \n",
       "2     Released  Still Yelling. Still Fighting. Still Ready for...   \n",
       "3     Released  Friends are the people who let you be yourself...   \n",
       "4     Released  Just When His World Is Back To Normal... He's ...   \n",
       "...        ...                                                ...   \n",
       "4995  Released  This Was the Day That Engulfed the World in Te...   \n",
       "4996  Released  When someone you love dies... are they gone fo...   \n",
       "4997  Released                 This time there are no interviews.   \n",
       "4998  Released                                                NaN   \n",
       "4999  Released                                                NaN   \n",
       "\n",
       "                            title  video vote_average vote_count  \n",
       "0                       Toy Story  False          7.7     5415.0  \n",
       "1                         Jumanji  False          6.9     2413.0  \n",
       "2                Grumpier Old Men  False          6.5       92.0  \n",
       "3               Waiting to Exhale  False          6.1       34.0  \n",
       "4     Father of the Bride Part II  False          5.7      173.0  \n",
       "...                           ...    ...          ...        ...  \n",
       "4995            The Deadly Mantis  False          5.3       16.0  \n",
       "4996                    Dragonfly  False          6.2      209.0  \n",
       "4997          Queen of the Damned  False          5.5      247.0  \n",
       "4998                 Big Bad Love  False          6.5        4.0  \n",
       "4999                 Green Dragon  False          5.5       10.0  \n",
       "\n",
       "[5000 rows x 24 columns]"
      ]
     },
     "execution_count": 34,
     "metadata": {},
     "output_type": "execute_result"
    }
   ],
   "source": [
    "data=data.head(5000)\n",
    "data"
   ]
  },
  {
   "cell_type": "markdown",
   "id": "2c8ff4e0",
   "metadata": {},
   "source": [
    "### column를 통해서 알 수 있듯이 모든 열을 사용해서 모델링을 할 수 없다"
   ]
  },
  {
   "cell_type": "code",
   "execution_count": 35,
   "id": "b1fe74d0",
   "metadata": {},
   "outputs": [
    {
     "data": {
      "text/plain": [
       "Index(['adult', 'belongs_to_collection', 'budget', 'genres', 'homepage', 'id',\n",
       "       'imdb_id', 'original_language', 'original_title', 'overview',\n",
       "       'popularity', 'poster_path', 'production_companies',\n",
       "       'production_countries', 'release_date', 'revenue', 'runtime',\n",
       "       'spoken_languages', 'status', 'tagline', 'title', 'video',\n",
       "       'vote_average', 'vote_count'],\n",
       "      dtype='object')"
      ]
     },
     "execution_count": 35,
     "metadata": {},
     "output_type": "execute_result"
    }
   ],
   "source": [
    "data.columns"
   ]
  },
  {
   "cell_type": "markdown",
   "id": "a73f48a8",
   "metadata": {},
   "source": [
    "### 열값이 많아서 7개로 축약"
   ]
  },
  {
   "cell_type": "code",
   "execution_count": 36,
   "id": "a333b847",
   "metadata": {},
   "outputs": [],
   "source": [
    "data = data[['id','genres', 'vote_average', 'vote_count','popularity','title', 'overview']]"
   ]
  },
  {
   "cell_type": "code",
   "execution_count": 37,
   "id": "33b6f7dd",
   "metadata": {},
   "outputs": [
    {
     "data": {
      "text/html": [
       "<div>\n",
       "<style scoped>\n",
       "    .dataframe tbody tr th:only-of-type {\n",
       "        vertical-align: middle;\n",
       "    }\n",
       "\n",
       "    .dataframe tbody tr th {\n",
       "        vertical-align: top;\n",
       "    }\n",
       "\n",
       "    .dataframe thead th {\n",
       "        text-align: right;\n",
       "    }\n",
       "</style>\n",
       "<table border=\"1\" class=\"dataframe\">\n",
       "  <thead>\n",
       "    <tr style=\"text-align: right;\">\n",
       "      <th></th>\n",
       "      <th>id</th>\n",
       "      <th>genres</th>\n",
       "      <th>vote_average</th>\n",
       "      <th>vote_count</th>\n",
       "      <th>popularity</th>\n",
       "      <th>title</th>\n",
       "      <th>overview</th>\n",
       "    </tr>\n",
       "  </thead>\n",
       "  <tbody>\n",
       "    <tr>\n",
       "      <th>0</th>\n",
       "      <td>862</td>\n",
       "      <td>[{'id': 16, 'name': 'Animation'}, {'id': 35, '...</td>\n",
       "      <td>7.7</td>\n",
       "      <td>5415.0</td>\n",
       "      <td>21.946943</td>\n",
       "      <td>Toy Story</td>\n",
       "      <td>Led by Woody, Andy's toys live happily in his ...</td>\n",
       "    </tr>\n",
       "    <tr>\n",
       "      <th>1</th>\n",
       "      <td>8844</td>\n",
       "      <td>[{'id': 12, 'name': 'Adventure'}, {'id': 14, '...</td>\n",
       "      <td>6.9</td>\n",
       "      <td>2413.0</td>\n",
       "      <td>17.015539</td>\n",
       "      <td>Jumanji</td>\n",
       "      <td>When siblings Judy and Peter discover an encha...</td>\n",
       "    </tr>\n",
       "    <tr>\n",
       "      <th>2</th>\n",
       "      <td>15602</td>\n",
       "      <td>[{'id': 10749, 'name': 'Romance'}, {'id': 35, ...</td>\n",
       "      <td>6.5</td>\n",
       "      <td>92.0</td>\n",
       "      <td>11.7129</td>\n",
       "      <td>Grumpier Old Men</td>\n",
       "      <td>A family wedding reignites the ancient feud be...</td>\n",
       "    </tr>\n",
       "    <tr>\n",
       "      <th>3</th>\n",
       "      <td>31357</td>\n",
       "      <td>[{'id': 35, 'name': 'Comedy'}, {'id': 18, 'nam...</td>\n",
       "      <td>6.1</td>\n",
       "      <td>34.0</td>\n",
       "      <td>3.859495</td>\n",
       "      <td>Waiting to Exhale</td>\n",
       "      <td>Cheated on, mistreated and stepped on, the wom...</td>\n",
       "    </tr>\n",
       "    <tr>\n",
       "      <th>4</th>\n",
       "      <td>11862</td>\n",
       "      <td>[{'id': 35, 'name': 'Comedy'}]</td>\n",
       "      <td>5.7</td>\n",
       "      <td>173.0</td>\n",
       "      <td>8.387519</td>\n",
       "      <td>Father of the Bride Part II</td>\n",
       "      <td>Just when George Banks has recovered from his ...</td>\n",
       "    </tr>\n",
       "    <tr>\n",
       "      <th>...</th>\n",
       "      <td>...</td>\n",
       "      <td>...</td>\n",
       "      <td>...</td>\n",
       "      <td>...</td>\n",
       "      <td>...</td>\n",
       "      <td>...</td>\n",
       "      <td>...</td>\n",
       "    </tr>\n",
       "    <tr>\n",
       "      <th>4995</th>\n",
       "      <td>43715</td>\n",
       "      <td>[{'id': 53, 'name': 'Thriller'}, {'id': 27, 'n...</td>\n",
       "      <td>5.3</td>\n",
       "      <td>16.0</td>\n",
       "      <td>1.738062</td>\n",
       "      <td>The Deadly Mantis</td>\n",
       "      <td>The calving of an Arctic iceberg releases a gi...</td>\n",
       "    </tr>\n",
       "    <tr>\n",
       "      <th>4996</th>\n",
       "      <td>10052</td>\n",
       "      <td>[{'id': 18, 'name': 'Drama'}]</td>\n",
       "      <td>6.2</td>\n",
       "      <td>209.0</td>\n",
       "      <td>4.924078</td>\n",
       "      <td>Dragonfly</td>\n",
       "      <td>A grieving doctor is being contacted by his la...</td>\n",
       "    </tr>\n",
       "    <tr>\n",
       "      <th>4997</th>\n",
       "      <td>11979</td>\n",
       "      <td>[{'id': 18, 'name': 'Drama'}, {'id': 14, 'name...</td>\n",
       "      <td>5.5</td>\n",
       "      <td>247.0</td>\n",
       "      <td>8.436243</td>\n",
       "      <td>Queen of the Damned</td>\n",
       "      <td>Lestat de Lioncourt is awakened from his slumb...</td>\n",
       "    </tr>\n",
       "    <tr>\n",
       "      <th>4998</th>\n",
       "      <td>75151</td>\n",
       "      <td>[{'id': 18, 'name': 'Drama'}, {'id': 35, 'name...</td>\n",
       "      <td>6.5</td>\n",
       "      <td>4.0</td>\n",
       "      <td>0.437438</td>\n",
       "      <td>Big Bad Love</td>\n",
       "      <td>Vietnam veteran Leon Barlow is struggling as a...</td>\n",
       "    </tr>\n",
       "    <tr>\n",
       "      <th>4999</th>\n",
       "      <td>35868</td>\n",
       "      <td>[{'id': 28, 'name': 'Action'}, {'id': 12, 'nam...</td>\n",
       "      <td>5.5</td>\n",
       "      <td>10.0</td>\n",
       "      <td>0.755576</td>\n",
       "      <td>Green Dragon</td>\n",
       "      <td>A tale about Vietnamese refugees sent to an or...</td>\n",
       "    </tr>\n",
       "  </tbody>\n",
       "</table>\n",
       "<p>5000 rows × 7 columns</p>\n",
       "</div>"
      ],
      "text/plain": [
       "         id                                             genres  vote_average  \\\n",
       "0       862  [{'id': 16, 'name': 'Animation'}, {'id': 35, '...           7.7   \n",
       "1      8844  [{'id': 12, 'name': 'Adventure'}, {'id': 14, '...           6.9   \n",
       "2     15602  [{'id': 10749, 'name': 'Romance'}, {'id': 35, ...           6.5   \n",
       "3     31357  [{'id': 35, 'name': 'Comedy'}, {'id': 18, 'nam...           6.1   \n",
       "4     11862                     [{'id': 35, 'name': 'Comedy'}]           5.7   \n",
       "...     ...                                                ...           ...   \n",
       "4995  43715  [{'id': 53, 'name': 'Thriller'}, {'id': 27, 'n...           5.3   \n",
       "4996  10052                      [{'id': 18, 'name': 'Drama'}]           6.2   \n",
       "4997  11979  [{'id': 18, 'name': 'Drama'}, {'id': 14, 'name...           5.5   \n",
       "4998  75151  [{'id': 18, 'name': 'Drama'}, {'id': 35, 'name...           6.5   \n",
       "4999  35868  [{'id': 28, 'name': 'Action'}, {'id': 12, 'nam...           5.5   \n",
       "\n",
       "      vote_count popularity                        title  \\\n",
       "0         5415.0  21.946943                    Toy Story   \n",
       "1         2413.0  17.015539                      Jumanji   \n",
       "2           92.0    11.7129             Grumpier Old Men   \n",
       "3           34.0   3.859495            Waiting to Exhale   \n",
       "4          173.0   8.387519  Father of the Bride Part II   \n",
       "...          ...        ...                          ...   \n",
       "4995        16.0   1.738062            The Deadly Mantis   \n",
       "4996       209.0   4.924078                    Dragonfly   \n",
       "4997       247.0   8.436243          Queen of the Damned   \n",
       "4998         4.0   0.437438                 Big Bad Love   \n",
       "4999        10.0   0.755576                 Green Dragon   \n",
       "\n",
       "                                               overview  \n",
       "0     Led by Woody, Andy's toys live happily in his ...  \n",
       "1     When siblings Judy and Peter discover an encha...  \n",
       "2     A family wedding reignites the ancient feud be...  \n",
       "3     Cheated on, mistreated and stepped on, the wom...  \n",
       "4     Just when George Banks has recovered from his ...  \n",
       "...                                                 ...  \n",
       "4995  The calving of an Arctic iceberg releases a gi...  \n",
       "4996  A grieving doctor is being contacted by his la...  \n",
       "4997  Lestat de Lioncourt is awakened from his slumb...  \n",
       "4998  Vietnam veteran Leon Barlow is struggling as a...  \n",
       "4999  A tale about Vietnamese refugees sent to an or...  \n",
       "\n",
       "[5000 rows x 7 columns]"
      ]
     },
     "execution_count": 37,
     "metadata": {},
     "output_type": "execute_result"
    }
   ],
   "source": [
    "data"
   ]
  },
  {
   "cell_type": "markdown",
   "id": "ddb1245e",
   "metadata": {},
   "source": [
    "### 0.9는 90% 지점을 말하는 것 "
   ]
  },
  {
   "cell_type": "code",
   "execution_count": 38,
   "id": "225714fa",
   "metadata": {},
   "outputs": [
    {
     "data": {
      "text/plain": [
       "568.1000000000004"
      ]
     },
     "execution_count": 38,
     "metadata": {},
     "output_type": "execute_result"
    }
   ],
   "source": [
    "data[\"vote_count\"].quantile(0.9)"
   ]
  },
  {
   "cell_type": "markdown",
   "id": "1b9263ac",
   "metadata": {},
   "source": [
    "### vote_count가 너무 낮은것은 의미가 없다고 생각해라"
   ]
  },
  {
   "cell_type": "code",
   "execution_count": 39,
   "id": "52259b75",
   "metadata": {},
   "outputs": [
    {
     "data": {
      "text/plain": [
       "count    5000.000000\n",
       "mean      246.124400\n",
       "std       656.685835\n",
       "min         0.000000\n",
       "25%        13.000000\n",
       "50%        49.000000\n",
       "75%       184.000000\n",
       "max      9678.000000\n",
       "Name: vote_count, dtype: float64"
      ]
     },
     "execution_count": 39,
     "metadata": {},
     "output_type": "execute_result"
    }
   ],
   "source": [
    "data[\"vote_count\"].describe()"
   ]
  },
  {
   "cell_type": "code",
   "execution_count": 40,
   "id": "cb96925f",
   "metadata": {},
   "outputs": [],
   "source": [
    "tmp=data[\"vote_count\"].quantile(0.9) #568\n",
    "data=data[data[\"vote_count\"]>tmp]"
   ]
  },
  {
   "cell_type": "code",
   "execution_count": 41,
   "id": "4098370a",
   "metadata": {},
   "outputs": [
    {
     "data": {
      "text/plain": [
       "count     500.000000\n",
       "mean     1638.622000\n",
       "std      1424.593369\n",
       "min       569.000000\n",
       "25%       791.500000\n",
       "50%      1096.000000\n",
       "75%      1769.500000\n",
       "max      9678.000000\n",
       "Name: vote_count, dtype: float64"
      ]
     },
     "execution_count": 41,
     "metadata": {},
     "output_type": "execute_result"
    }
   ],
   "source": [
    "data[\"vote_count\"].describe()"
   ]
  },
  {
   "cell_type": "code",
   "execution_count": 42,
   "id": "1c78bf44",
   "metadata": {},
   "outputs": [
    {
     "data": {
      "text/html": [
       "<div>\n",
       "<style scoped>\n",
       "    .dataframe tbody tr th:only-of-type {\n",
       "        vertical-align: middle;\n",
       "    }\n",
       "\n",
       "    .dataframe tbody tr th {\n",
       "        vertical-align: top;\n",
       "    }\n",
       "\n",
       "    .dataframe thead th {\n",
       "        text-align: right;\n",
       "    }\n",
       "</style>\n",
       "<table border=\"1\" class=\"dataframe\">\n",
       "  <thead>\n",
       "    <tr style=\"text-align: right;\">\n",
       "      <th></th>\n",
       "      <th>id</th>\n",
       "      <th>genres</th>\n",
       "      <th>vote_average</th>\n",
       "      <th>vote_count</th>\n",
       "      <th>popularity</th>\n",
       "      <th>title</th>\n",
       "      <th>overview</th>\n",
       "    </tr>\n",
       "  </thead>\n",
       "  <tbody>\n",
       "    <tr>\n",
       "      <th>0</th>\n",
       "      <td>862</td>\n",
       "      <td>[{'id': 16, 'name': 'Animation'}, {'id': 35, '...</td>\n",
       "      <td>7.7</td>\n",
       "      <td>5415.0</td>\n",
       "      <td>21.946943</td>\n",
       "      <td>Toy Story</td>\n",
       "      <td>Led by Woody, Andy's toys live happily in his ...</td>\n",
       "    </tr>\n",
       "    <tr>\n",
       "      <th>1</th>\n",
       "      <td>8844</td>\n",
       "      <td>[{'id': 12, 'name': 'Adventure'}, {'id': 14, '...</td>\n",
       "      <td>6.9</td>\n",
       "      <td>2413.0</td>\n",
       "      <td>17.015539</td>\n",
       "      <td>Jumanji</td>\n",
       "      <td>When siblings Judy and Peter discover an encha...</td>\n",
       "    </tr>\n",
       "    <tr>\n",
       "      <th>5</th>\n",
       "      <td>949</td>\n",
       "      <td>[{'id': 28, 'name': 'Action'}, {'id': 80, 'nam...</td>\n",
       "      <td>7.7</td>\n",
       "      <td>1886.0</td>\n",
       "      <td>17.924927</td>\n",
       "      <td>Heat</td>\n",
       "      <td>Obsessive master thief, Neil McCauley leads a ...</td>\n",
       "    </tr>\n",
       "    <tr>\n",
       "      <th>9</th>\n",
       "      <td>710</td>\n",
       "      <td>[{'id': 12, 'name': 'Adventure'}, {'id': 28, '...</td>\n",
       "      <td>6.6</td>\n",
       "      <td>1194.0</td>\n",
       "      <td>14.686036</td>\n",
       "      <td>GoldenEye</td>\n",
       "      <td>James Bond must unmask the mysterious head of ...</td>\n",
       "    </tr>\n",
       "    <tr>\n",
       "      <th>15</th>\n",
       "      <td>524</td>\n",
       "      <td>[{'id': 18, 'name': 'Drama'}, {'id': 80, 'name...</td>\n",
       "      <td>7.8</td>\n",
       "      <td>1343.0</td>\n",
       "      <td>10.137389</td>\n",
       "      <td>Casino</td>\n",
       "      <td>The life of the gambling paradise – Las Vegas ...</td>\n",
       "    </tr>\n",
       "    <tr>\n",
       "      <th>...</th>\n",
       "      <td>...</td>\n",
       "      <td>...</td>\n",
       "      <td>...</td>\n",
       "      <td>...</td>\n",
       "      <td>...</td>\n",
       "      <td>...</td>\n",
       "      <td>...</td>\n",
       "    </tr>\n",
       "    <tr>\n",
       "      <th>4863</th>\n",
       "      <td>120</td>\n",
       "      <td>[{'id': 12, 'name': 'Adventure'}, {'id': 14, '...</td>\n",
       "      <td>8.0</td>\n",
       "      <td>8892.0</td>\n",
       "      <td>32.070725</td>\n",
       "      <td>The Lord of the Rings: The Fellowship of the Ring</td>\n",
       "      <td>Young hobbit Frodo Baggins, after inheriting a...</td>\n",
       "    </tr>\n",
       "    <tr>\n",
       "      <th>4865</th>\n",
       "      <td>453</td>\n",
       "      <td>[{'id': 18, 'name': 'Drama'}, {'id': 10749, 'n...</td>\n",
       "      <td>7.7</td>\n",
       "      <td>3087.0</td>\n",
       "      <td>11.93646</td>\n",
       "      <td>A Beautiful Mind</td>\n",
       "      <td>At Princeton University, John Nash struggles t...</td>\n",
       "    </tr>\n",
       "    <tr>\n",
       "      <th>4880</th>\n",
       "      <td>855</td>\n",
       "      <td>[{'id': 28, 'name': 'Action'}, {'id': 36, 'nam...</td>\n",
       "      <td>7.2</td>\n",
       "      <td>1832.0</td>\n",
       "      <td>10.064446</td>\n",
       "      <td>Black Hawk Down</td>\n",
       "      <td>When U.S. Rangers and an elite Delta Force tea...</td>\n",
       "    </tr>\n",
       "    <tr>\n",
       "      <th>4936</th>\n",
       "      <td>10229</td>\n",
       "      <td>[{'id': 18, 'name': 'Drama'}, {'id': 10749, 'n...</td>\n",
       "      <td>7.5</td>\n",
       "      <td>1057.0</td>\n",
       "      <td>8.054499</td>\n",
       "      <td>A Walk to Remember</td>\n",
       "      <td>When the popular, restless Landon Carter is fo...</td>\n",
       "    </tr>\n",
       "    <tr>\n",
       "      <th>4977</th>\n",
       "      <td>8470</td>\n",
       "      <td>[{'id': 18, 'name': 'Drama'}, {'id': 53, 'name...</td>\n",
       "      <td>7.0</td>\n",
       "      <td>604.0</td>\n",
       "      <td>8.867562</td>\n",
       "      <td>John Q</td>\n",
       "      <td>John Quincy Archibald is a father and husband ...</td>\n",
       "    </tr>\n",
       "  </tbody>\n",
       "</table>\n",
       "<p>500 rows × 7 columns</p>\n",
       "</div>"
      ],
      "text/plain": [
       "         id                                             genres  vote_average  \\\n",
       "0       862  [{'id': 16, 'name': 'Animation'}, {'id': 35, '...           7.7   \n",
       "1      8844  [{'id': 12, 'name': 'Adventure'}, {'id': 14, '...           6.9   \n",
       "5       949  [{'id': 28, 'name': 'Action'}, {'id': 80, 'nam...           7.7   \n",
       "9       710  [{'id': 12, 'name': 'Adventure'}, {'id': 28, '...           6.6   \n",
       "15      524  [{'id': 18, 'name': 'Drama'}, {'id': 80, 'name...           7.8   \n",
       "...     ...                                                ...           ...   \n",
       "4863    120  [{'id': 12, 'name': 'Adventure'}, {'id': 14, '...           8.0   \n",
       "4865    453  [{'id': 18, 'name': 'Drama'}, {'id': 10749, 'n...           7.7   \n",
       "4880    855  [{'id': 28, 'name': 'Action'}, {'id': 36, 'nam...           7.2   \n",
       "4936  10229  [{'id': 18, 'name': 'Drama'}, {'id': 10749, 'n...           7.5   \n",
       "4977   8470  [{'id': 18, 'name': 'Drama'}, {'id': 53, 'name...           7.0   \n",
       "\n",
       "      vote_count popularity  \\\n",
       "0         5415.0  21.946943   \n",
       "1         2413.0  17.015539   \n",
       "5         1886.0  17.924927   \n",
       "9         1194.0  14.686036   \n",
       "15        1343.0  10.137389   \n",
       "...          ...        ...   \n",
       "4863      8892.0  32.070725   \n",
       "4865      3087.0   11.93646   \n",
       "4880      1832.0  10.064446   \n",
       "4936      1057.0   8.054499   \n",
       "4977       604.0   8.867562   \n",
       "\n",
       "                                                  title  \\\n",
       "0                                             Toy Story   \n",
       "1                                               Jumanji   \n",
       "5                                                  Heat   \n",
       "9                                             GoldenEye   \n",
       "15                                               Casino   \n",
       "...                                                 ...   \n",
       "4863  The Lord of the Rings: The Fellowship of the Ring   \n",
       "4865                                   A Beautiful Mind   \n",
       "4880                                    Black Hawk Down   \n",
       "4936                                 A Walk to Remember   \n",
       "4977                                             John Q   \n",
       "\n",
       "                                               overview  \n",
       "0     Led by Woody, Andy's toys live happily in his ...  \n",
       "1     When siblings Judy and Peter discover an encha...  \n",
       "5     Obsessive master thief, Neil McCauley leads a ...  \n",
       "9     James Bond must unmask the mysterious head of ...  \n",
       "15    The life of the gambling paradise – Las Vegas ...  \n",
       "...                                                 ...  \n",
       "4863  Young hobbit Frodo Baggins, after inheriting a...  \n",
       "4865  At Princeton University, John Nash struggles t...  \n",
       "4880  When U.S. Rangers and an elite Delta Force tea...  \n",
       "4936  When the popular, restless Landon Carter is fo...  \n",
       "4977  John Quincy Archibald is a father and husband ...  \n",
       "\n",
       "[500 rows x 7 columns]"
      ]
     },
     "execution_count": 42,
     "metadata": {},
     "output_type": "execute_result"
    }
   ],
   "source": [
    "data"
   ]
  },
  {
   "cell_type": "code",
   "execution_count": 43,
   "id": "d832f2e7",
   "metadata": {},
   "outputs": [
    {
     "data": {
      "text/plain": [
       "7.036200000000001"
      ]
     },
     "execution_count": 43,
     "metadata": {},
     "output_type": "execute_result"
    }
   ],
   "source": [
    "C = data['vote_average'].mean()\n",
    "C"
   ]
  },
  {
   "cell_type": "code",
   "execution_count": 44,
   "id": "045a2dd8",
   "metadata": {},
   "outputs": [
    {
     "data": {
      "text/plain": [
       "568.1000000000004"
      ]
     },
     "execution_count": 44,
     "metadata": {},
     "output_type": "execute_result"
    }
   ],
   "source": [
    "m=tmp\n",
    "m"
   ]
  },
  {
   "cell_type": "code",
   "execution_count": 45,
   "id": "f9d6e306",
   "metadata": {},
   "outputs": [],
   "source": [
    "def weighted_rating(x, m=m, C=C):\n",
    "    v = x['vote_count']\n",
    "    R = x['vote_average']\n",
    "    \n",
    "    return ( v / (v+m) * R ) + (m / (m + v) * C)"
   ]
  },
  {
   "attachments": {
    "image.png": {
     "image/png": "[encoded data removed]"
    }
   },
   "cell_type": "markdown",
   "id": "22742677",
   "metadata": {},
   "source": [
    "https://www.quora.com/How-does-IMDbs-rating-system-work\n",
    "![image.png](attachment:image.png)"
   ]
  },
  {
   "cell_type": "code",
   "execution_count": 46,
   "id": "9e3f513c",
   "metadata": {},
   "outputs": [
    {
     "name": "stderr",
     "output_type": "stream",
     "text": [
      "C:\\Users\\user\\AppData\\Local\\Temp\\ipykernel_22040\\155826747.py:1: SettingWithCopyWarning: \n",
      "A value is trying to be set on a copy of a slice from a DataFrame.\n",
      "Try using .loc[row_indexer,col_indexer] = value instead\n",
      "\n",
      "See the caveats in the documentation: https://pandas.pydata.org/pandas-docs/stable/user_guide/indexing.html#returning-a-view-versus-a-copy\n",
      "  data['score'] = data.apply(weighted_rating, axis = 1)\n"
     ]
    }
   ],
   "source": [
    "data['score'] = data.apply(weighted_rating, axis = 1)"
   ]
  },
  {
   "cell_type": "code",
   "execution_count": 47,
   "id": "c2307db7",
   "metadata": {},
   "outputs": [
    {
     "data": {
      "text/html": [
       "<div>\n",
       "<style scoped>\n",
       "    .dataframe tbody tr th:only-of-type {\n",
       "        vertical-align: middle;\n",
       "    }\n",
       "\n",
       "    .dataframe tbody tr th {\n",
       "        vertical-align: top;\n",
       "    }\n",
       "\n",
       "    .dataframe thead th {\n",
       "        text-align: right;\n",
       "    }\n",
       "</style>\n",
       "<table border=\"1\" class=\"dataframe\">\n",
       "  <thead>\n",
       "    <tr style=\"text-align: right;\">\n",
       "      <th></th>\n",
       "      <th>id</th>\n",
       "      <th>genres</th>\n",
       "      <th>vote_average</th>\n",
       "      <th>vote_count</th>\n",
       "      <th>popularity</th>\n",
       "      <th>title</th>\n",
       "      <th>overview</th>\n",
       "      <th>score</th>\n",
       "    </tr>\n",
       "  </thead>\n",
       "  <tbody>\n",
       "    <tr>\n",
       "      <th>0</th>\n",
       "      <td>862</td>\n",
       "      <td>[{'id': 16, 'name': 'Animation'}, {'id': 35, '...</td>\n",
       "      <td>7.7</td>\n",
       "      <td>5415.0</td>\n",
       "      <td>21.946943</td>\n",
       "      <td>Toy Story</td>\n",
       "      <td>Led by Woody, Andy's toys live happily in his ...</td>\n",
       "      <td>7.636972</td>\n",
       "    </tr>\n",
       "    <tr>\n",
       "      <th>1</th>\n",
       "      <td>8844</td>\n",
       "      <td>[{'id': 12, 'name': 'Adventure'}, {'id': 14, '...</td>\n",
       "      <td>6.9</td>\n",
       "      <td>2413.0</td>\n",
       "      <td>17.015539</td>\n",
       "      <td>Jumanji</td>\n",
       "      <td>When siblings Judy and Peter discover an encha...</td>\n",
       "      <td>6.925955</td>\n",
       "    </tr>\n",
       "    <tr>\n",
       "      <th>5</th>\n",
       "      <td>949</td>\n",
       "      <td>[{'id': 28, 'name': 'Action'}, {'id': 80, 'nam...</td>\n",
       "      <td>7.7</td>\n",
       "      <td>1886.0</td>\n",
       "      <td>17.924927</td>\n",
       "      <td>Heat</td>\n",
       "      <td>Obsessive master thief, Neil McCauley leads a ...</td>\n",
       "      <td>7.546337</td>\n",
       "    </tr>\n",
       "    <tr>\n",
       "      <th>9</th>\n",
       "      <td>710</td>\n",
       "      <td>[{'id': 12, 'name': 'Adventure'}, {'id': 28, '...</td>\n",
       "      <td>6.6</td>\n",
       "      <td>1194.0</td>\n",
       "      <td>14.686036</td>\n",
       "      <td>GoldenEye</td>\n",
       "      <td>James Bond must unmask the mysterious head of ...</td>\n",
       "      <td>6.740631</td>\n",
       "    </tr>\n",
       "    <tr>\n",
       "      <th>15</th>\n",
       "      <td>524</td>\n",
       "      <td>[{'id': 18, 'name': 'Drama'}, {'id': 80, 'name...</td>\n",
       "      <td>7.8</td>\n",
       "      <td>1343.0</td>\n",
       "      <td>10.137389</td>\n",
       "      <td>Casino</td>\n",
       "      <td>The life of the gambling paradise – Las Vegas ...</td>\n",
       "      <td>7.572950</td>\n",
       "    </tr>\n",
       "    <tr>\n",
       "      <th>...</th>\n",
       "      <td>...</td>\n",
       "      <td>...</td>\n",
       "      <td>...</td>\n",
       "      <td>...</td>\n",
       "      <td>...</td>\n",
       "      <td>...</td>\n",
       "      <td>...</td>\n",
       "      <td>...</td>\n",
       "    </tr>\n",
       "    <tr>\n",
       "      <th>4863</th>\n",
       "      <td>120</td>\n",
       "      <td>[{'id': 12, 'name': 'Adventure'}, {'id': 14, '...</td>\n",
       "      <td>8.0</td>\n",
       "      <td>8892.0</td>\n",
       "      <td>32.070725</td>\n",
       "      <td>The Lord of the Rings: The Fellowship of the Ring</td>\n",
       "      <td>Young hobbit Frodo Baggins, after inheriting a...</td>\n",
       "      <td>7.942122</td>\n",
       "    </tr>\n",
       "    <tr>\n",
       "      <th>4865</th>\n",
       "      <td>453</td>\n",
       "      <td>[{'id': 18, 'name': 'Drama'}, {'id': 10749, 'n...</td>\n",
       "      <td>7.7</td>\n",
       "      <td>3087.0</td>\n",
       "      <td>11.93646</td>\n",
       "      <td>A Beautiful Mind</td>\n",
       "      <td>At Princeton University, John Nash struggles t...</td>\n",
       "      <td>7.596828</td>\n",
       "    </tr>\n",
       "    <tr>\n",
       "      <th>4880</th>\n",
       "      <td>855</td>\n",
       "      <td>[{'id': 28, 'name': 'Action'}, {'id': 36, 'nam...</td>\n",
       "      <td>7.2</td>\n",
       "      <td>1832.0</td>\n",
       "      <td>10.064446</td>\n",
       "      <td>Black Hawk Down</td>\n",
       "      <td>When U.S. Rangers and an elite Delta Force tea...</td>\n",
       "      <td>7.161229</td>\n",
       "    </tr>\n",
       "    <tr>\n",
       "      <th>4936</th>\n",
       "      <td>10229</td>\n",
       "      <td>[{'id': 18, 'name': 'Drama'}, {'id': 10749, 'n...</td>\n",
       "      <td>7.5</td>\n",
       "      <td>1057.0</td>\n",
       "      <td>8.054499</td>\n",
       "      <td>A Walk to Remember</td>\n",
       "      <td>When the popular, restless Landon Carter is fo...</td>\n",
       "      <td>7.337865</td>\n",
       "    </tr>\n",
       "    <tr>\n",
       "      <th>4977</th>\n",
       "      <td>8470</td>\n",
       "      <td>[{'id': 18, 'name': 'Drama'}, {'id': 53, 'name...</td>\n",
       "      <td>7.0</td>\n",
       "      <td>604.0</td>\n",
       "      <td>8.867562</td>\n",
       "      <td>John Q</td>\n",
       "      <td>John Quincy Archibald is a father and husband ...</td>\n",
       "      <td>7.017546</td>\n",
       "    </tr>\n",
       "  </tbody>\n",
       "</table>\n",
       "<p>500 rows × 8 columns</p>\n",
       "</div>"
      ],
      "text/plain": [
       "         id                                             genres  vote_average  \\\n",
       "0       862  [{'id': 16, 'name': 'Animation'}, {'id': 35, '...           7.7   \n",
       "1      8844  [{'id': 12, 'name': 'Adventure'}, {'id': 14, '...           6.9   \n",
       "5       949  [{'id': 28, 'name': 'Action'}, {'id': 80, 'nam...           7.7   \n",
       "9       710  [{'id': 12, 'name': 'Adventure'}, {'id': 28, '...           6.6   \n",
       "15      524  [{'id': 18, 'name': 'Drama'}, {'id': 80, 'name...           7.8   \n",
       "...     ...                                                ...           ...   \n",
       "4863    120  [{'id': 12, 'name': 'Adventure'}, {'id': 14, '...           8.0   \n",
       "4865    453  [{'id': 18, 'name': 'Drama'}, {'id': 10749, 'n...           7.7   \n",
       "4880    855  [{'id': 28, 'name': 'Action'}, {'id': 36, 'nam...           7.2   \n",
       "4936  10229  [{'id': 18, 'name': 'Drama'}, {'id': 10749, 'n...           7.5   \n",
       "4977   8470  [{'id': 18, 'name': 'Drama'}, {'id': 53, 'name...           7.0   \n",
       "\n",
       "      vote_count popularity  \\\n",
       "0         5415.0  21.946943   \n",
       "1         2413.0  17.015539   \n",
       "5         1886.0  17.924927   \n",
       "9         1194.0  14.686036   \n",
       "15        1343.0  10.137389   \n",
       "...          ...        ...   \n",
       "4863      8892.0  32.070725   \n",
       "4865      3087.0   11.93646   \n",
       "4880      1832.0  10.064446   \n",
       "4936      1057.0   8.054499   \n",
       "4977       604.0   8.867562   \n",
       "\n",
       "                                                  title  \\\n",
       "0                                             Toy Story   \n",
       "1                                               Jumanji   \n",
       "5                                                  Heat   \n",
       "9                                             GoldenEye   \n",
       "15                                               Casino   \n",
       "...                                                 ...   \n",
       "4863  The Lord of the Rings: The Fellowship of the Ring   \n",
       "4865                                   A Beautiful Mind   \n",
       "4880                                    Black Hawk Down   \n",
       "4936                                 A Walk to Remember   \n",
       "4977                                             John Q   \n",
       "\n",
       "                                               overview     score  \n",
       "0     Led by Woody, Andy's toys live happily in his ...  7.636972  \n",
       "1     When siblings Judy and Peter discover an encha...  6.925955  \n",
       "5     Obsessive master thief, Neil McCauley leads a ...  7.546337  \n",
       "9     James Bond must unmask the mysterious head of ...  6.740631  \n",
       "15    The life of the gambling paradise – Las Vegas ...  7.572950  \n",
       "...                                                 ...       ...  \n",
       "4863  Young hobbit Frodo Baggins, after inheriting a...  7.942122  \n",
       "4865  At Princeton University, John Nash struggles t...  7.596828  \n",
       "4880  When U.S. Rangers and an elite Delta Force tea...  7.161229  \n",
       "4936  When the popular, restless Landon Carter is fo...  7.337865  \n",
       "4977  John Quincy Archibald is a father and husband ...  7.017546  \n",
       "\n",
       "[500 rows x 8 columns]"
      ]
     },
     "execution_count": 47,
     "metadata": {},
     "output_type": "execute_result"
    }
   ],
   "source": [
    "data"
   ]
  },
  {
   "cell_type": "code",
   "execution_count": 48,
   "id": "e03889ec",
   "metadata": {},
   "outputs": [
    {
     "data": {
      "text/plain": [
       "0       [{'id': 16, 'name': 'Animation'}, {'id': 35, '...\n",
       "1       [{'id': 12, 'name': 'Adventure'}, {'id': 14, '...\n",
       "5       [{'id': 28, 'name': 'Action'}, {'id': 80, 'nam...\n",
       "9       [{'id': 12, 'name': 'Adventure'}, {'id': 28, '...\n",
       "15      [{'id': 18, 'name': 'Drama'}, {'id': 80, 'name...\n",
       "                              ...                        \n",
       "4863    [{'id': 12, 'name': 'Adventure'}, {'id': 14, '...\n",
       "4865    [{'id': 18, 'name': 'Drama'}, {'id': 10749, 'n...\n",
       "4880    [{'id': 28, 'name': 'Action'}, {'id': 36, 'nam...\n",
       "4936    [{'id': 18, 'name': 'Drama'}, {'id': 10749, 'n...\n",
       "4977    [{'id': 18, 'name': 'Drama'}, {'id': 53, 'name...\n",
       "Name: genres, Length: 500, dtype: object"
      ]
     },
     "execution_count": 48,
     "metadata": {},
     "output_type": "execute_result"
    }
   ],
   "source": [
    "data[\"genres\"]"
   ]
  },
  {
   "cell_type": "code",
   "execution_count": 49,
   "id": "e6a3c5f2",
   "metadata": {},
   "outputs": [
    {
     "data": {
      "text/plain": [
       "\"[{'id': 16, 'name': 'Animation'}, {'id': 35, 'name': 'Comedy'}, {'id': 10751, 'name': 'Family'}]\""
      ]
     },
     "execution_count": 49,
     "metadata": {},
     "output_type": "execute_result"
    }
   ],
   "source": [
    "data[\"genres\"].loc[0]"
   ]
  },
  {
   "cell_type": "code",
   "execution_count": 50,
   "id": "28395aa4",
   "metadata": {},
   "outputs": [
    {
     "data": {
      "text/plain": [
       "str"
      ]
     },
     "execution_count": 50,
     "metadata": {},
     "output_type": "execute_result"
    }
   ],
   "source": [
    "type(data[\"genres\"].loc[0])"
   ]
  },
  {
   "cell_type": "markdown",
   "id": "9c196f86",
   "metadata": {},
   "source": [
    "\"[{'id': 16, 'name': 'Animation'}, {'id': 35, 'name': 'Comedy'}, {'id': 10751, 'name': 'Family'}]\"\n",
    "- 리스트가 아닌 문자열이다"
   ]
  },
  {
   "cell_type": "markdown",
   "id": "bb6a121d",
   "metadata": {},
   "source": [
    "# eval"
   ]
  },
  {
   "cell_type": "code",
   "execution_count": 51,
   "id": "71815364",
   "metadata": {},
   "outputs": [],
   "source": [
    "#장르열에 이렇게 입력되기를 원하는 경우\n",
    "#data[\"genres\"]=\"Animation\",\"Comedy\",\"Family\""
   ]
  },
  {
   "cell_type": "code",
   "execution_count": 52,
   "id": "7524c9a9",
   "metadata": {},
   "outputs": [
    {
     "data": {
      "text/plain": [
       "3"
      ]
     },
     "execution_count": 52,
     "metadata": {},
     "output_type": "execute_result"
    }
   ],
   "source": [
    "1+2\n",
    "\"1+2\"\n",
    "eval(\"1+2\")"
   ]
  },
  {
   "cell_type": "markdown",
   "id": "bc382d28",
   "metadata": {},
   "source": [
    "# eval을 통해 문자열에서 리스트로 바꿔줌"
   ]
  },
  {
   "cell_type": "code",
   "execution_count": 53,
   "id": "48feff6b",
   "metadata": {},
   "outputs": [
    {
     "data": {
      "text/plain": [
       "list"
      ]
     },
     "execution_count": 53,
     "metadata": {},
     "output_type": "execute_result"
    }
   ],
   "source": [
    "type(eval(data[\"genres\"].loc[0]))"
   ]
  },
  {
   "cell_type": "code",
   "execution_count": 54,
   "id": "3dbc8654",
   "metadata": {},
   "outputs": [
    {
     "data": {
      "text/plain": [
       "[{'id': 16, 'name': 'Animation'},\n",
       " {'id': 35, 'name': 'Comedy'},\n",
       " {'id': 10751, 'name': 'Family'}]"
      ]
     },
     "execution_count": 54,
     "metadata": {},
     "output_type": "execute_result"
    }
   ],
   "source": [
    "eval(data[\"genres\"].loc[0])"
   ]
  },
  {
   "cell_type": "code",
   "execution_count": 55,
   "id": "1c772d58",
   "metadata": {},
   "outputs": [
    {
     "data": {
      "text/plain": [
       "list"
      ]
     },
     "execution_count": 55,
     "metadata": {},
     "output_type": "execute_result"
    }
   ],
   "source": [
    "type(eval(data[\"genres\"].loc[0]))"
   ]
  },
  {
   "cell_type": "code",
   "execution_count": 56,
   "id": "2eb7820c",
   "metadata": {},
   "outputs": [
    {
     "data": {
      "text/plain": [
       "'Family'"
      ]
     },
     "execution_count": 56,
     "metadata": {},
     "output_type": "execute_result"
    }
   ],
   "source": [
    "eval(data[\"genres\"].loc[0])[0][\"name\"]\n",
    "eval(data[\"genres\"].loc[0])[1][\"name\"]\n",
    "eval(data[\"genres\"].loc[0])[2][\"name\"]"
   ]
  },
  {
   "cell_type": "markdown",
   "id": "1f3179f9",
   "metadata": {},
   "source": [
    "# 장르명만 추출해서 리스트구조로 바꿔주기"
   ]
  },
  {
   "cell_type": "code",
   "execution_count": 57,
   "id": "2882020d",
   "metadata": {},
   "outputs": [
    {
     "data": {
      "text/plain": [
       "[{'id': 16, 'name': 'Animation'},\n",
       " {'id': 35, 'name': 'Comedy'},\n",
       " {'id': 10751, 'name': 'Family'}]"
      ]
     },
     "execution_count": 57,
     "metadata": {},
     "output_type": "execute_result"
    }
   ],
   "source": [
    "eval(data[\"genres\"].loc[0])"
   ]
  },
  {
   "cell_type": "code",
   "execution_count": 58,
   "id": "37710dee",
   "metadata": {},
   "outputs": [
    {
     "data": {
      "text/plain": [
       "'\\nlst = []\\nfor i in range(len(data[\\'genres\\'])) :\\n    st= \\'\\'\\n    for j in range(len(eval(data[\\'genres\\'].iloc[i]))) :\\n        st += eval(data[\\'genres\\'].iloc[i])[j][\\'name\\'] + \\' \\'\\n    lst.append(st)\\n    \\nlst = []\\nfor i in range(len(data[\\'genres\\'])) :\\n    st= \\'\\'\\n    for j in range(len(eval(data[\\'genres\\'].iloc[i]))) :\\n        st += eval(data[\\'genres\\'].iloc[i])[j][\\'name\\'] + \\' \\'\\n    lst.append(st)\\n    \\ndata[\\'genres\\'].apply(lambda x: \\' \\'.join([i.get(\\'name\\') for i in eval(x)]))   \\n\\ndata[\\'genres\\'].apply(lambda x: \" \".join([i[\\'name\\'] for i in x]))\\n\\ndata[\\'genres\\'].apply(lambda x: [x[i][\\'name\\'] for i in range(len(x))])\\n'"
      ]
     },
     "execution_count": 58,
     "metadata": {},
     "output_type": "execute_result"
    }
   ],
   "source": [
    "\"\"\"\n",
    "lst = []\n",
    "for i in range(len(data['genres'])) :\n",
    "    st= ''\n",
    "    for j in range(len(eval(data['genres'].iloc[i]))) :\n",
    "        st += eval(data['genres'].iloc[i])[j]['name'] + ' '\n",
    "    lst.append(st)\n",
    "    \n",
    "lst = []\n",
    "for i in range(len(data['genres'])) :\n",
    "    st= ''\n",
    "    for j in range(len(eval(data['genres'].iloc[i]))) :\n",
    "        st += eval(data['genres'].iloc[i])[j]['name'] + ' '\n",
    "    lst.append(st)\n",
    "    \n",
    "data['genres'].apply(lambda x: ' '.join([i.get('name') for i in eval(x)]))   \n",
    "\n",
    "data['genres'].apply(lambda x: \" \".join([i['name'] for i in x]))\n",
    "\n",
    "data['genres'].apply(lambda x: [x[i]['name'] for i in range(len(x))])\n",
    "\"\"\""
   ]
  },
  {
   "cell_type": "code",
   "execution_count": 59,
   "id": "ab2dce7f",
   "metadata": {},
   "outputs": [
    {
     "name": "stderr",
     "output_type": "stream",
     "text": [
      "C:\\Users\\user\\AppData\\Local\\Temp\\ipykernel_22040\\780366431.py:1: SettingWithCopyWarning: \n",
      "A value is trying to be set on a copy of a slice from a DataFrame.\n",
      "Try using .loc[row_indexer,col_indexer] = value instead\n",
      "\n",
      "See the caveats in the documentation: https://pandas.pydata.org/pandas-docs/stable/user_guide/indexing.html#returning-a-view-versus-a-copy\n",
      "  data[\"genres\"]=data['genres'].apply(eval)\n"
     ]
    }
   ],
   "source": [
    "data[\"genres\"]=data['genres'].apply(eval)"
   ]
  },
  {
   "cell_type": "code",
   "execution_count": 60,
   "id": "575ccbff",
   "metadata": {},
   "outputs": [
    {
     "data": {
      "text/plain": [
       "0           Animation Comedy Family\n",
       "1          Adventure Fantasy Family\n",
       "5       Action Crime Drama Thriller\n",
       "9         Adventure Action Thriller\n",
       "15                      Drama Crime\n",
       "                   ...             \n",
       "4863       Adventure Fantasy Action\n",
       "4865                  Drama Romance\n",
       "4880             Action History War\n",
       "4936                  Drama Romance\n",
       "4977           Drama Thriller Crime\n",
       "Name: genres, Length: 500, dtype: object"
      ]
     },
     "execution_count": 60,
     "metadata": {},
     "output_type": "execute_result"
    }
   ],
   "source": [
    "data['genres'].apply(lambda x: [d['name'] for d in x]  )\n",
    "\n",
    "data['genres'].apply(lambda x: [d['name'] for d in x]).apply(lambda x : \" \".join(x))"
   ]
  },
  {
   "attachments": {
    "image.png": {
     "image/png": "[encoded data removed]"
    }
   },
   "cell_type": "markdown",
   "id": "ef4d4a4b",
   "metadata": {},
   "source": [
    "![image.png](attachment:image.png)"
   ]
  },
  {
   "cell_type": "code",
   "execution_count": 61,
   "id": "8705c512",
   "metadata": {},
   "outputs": [
    {
     "name": "stderr",
     "output_type": "stream",
     "text": [
      "C:\\Users\\user\\AppData\\Local\\Temp\\ipykernel_22040\\1306055511.py:1: SettingWithCopyWarning: \n",
      "A value is trying to be set on a copy of a slice from a DataFrame.\n",
      "Try using .loc[row_indexer,col_indexer] = value instead\n",
      "\n",
      "See the caveats in the documentation: https://pandas.pydata.org/pandas-docs/stable/user_guide/indexing.html#returning-a-view-versus-a-copy\n",
      "  data[\"genres\"]=data['genres'].apply(lambda x: [d['name'] for d in x]).apply(lambda x : \" \".join(x))\n"
     ]
    }
   ],
   "source": [
    "data[\"genres\"]=data['genres'].apply(lambda x: [d['name'] for d in x]).apply(lambda x : \" \".join(x))"
   ]
  },
  {
   "cell_type": "code",
   "execution_count": 62,
   "id": "44740b63",
   "metadata": {},
   "outputs": [
    {
     "data": {
      "text/html": [
       "<div>\n",
       "<style scoped>\n",
       "    .dataframe tbody tr th:only-of-type {\n",
       "        vertical-align: middle;\n",
       "    }\n",
       "\n",
       "    .dataframe tbody tr th {\n",
       "        vertical-align: top;\n",
       "    }\n",
       "\n",
       "    .dataframe thead th {\n",
       "        text-align: right;\n",
       "    }\n",
       "</style>\n",
       "<table border=\"1\" class=\"dataframe\">\n",
       "  <thead>\n",
       "    <tr style=\"text-align: right;\">\n",
       "      <th></th>\n",
       "      <th>id</th>\n",
       "      <th>genres</th>\n",
       "      <th>vote_average</th>\n",
       "      <th>vote_count</th>\n",
       "      <th>popularity</th>\n",
       "      <th>title</th>\n",
       "      <th>overview</th>\n",
       "      <th>score</th>\n",
       "    </tr>\n",
       "  </thead>\n",
       "  <tbody>\n",
       "    <tr>\n",
       "      <th>0</th>\n",
       "      <td>862</td>\n",
       "      <td>Animation Comedy Family</td>\n",
       "      <td>7.7</td>\n",
       "      <td>5415.0</td>\n",
       "      <td>21.946943</td>\n",
       "      <td>Toy Story</td>\n",
       "      <td>Led by Woody, Andy's toys live happily in his ...</td>\n",
       "      <td>7.636972</td>\n",
       "    </tr>\n",
       "    <tr>\n",
       "      <th>1</th>\n",
       "      <td>8844</td>\n",
       "      <td>Adventure Fantasy Family</td>\n",
       "      <td>6.9</td>\n",
       "      <td>2413.0</td>\n",
       "      <td>17.015539</td>\n",
       "      <td>Jumanji</td>\n",
       "      <td>When siblings Judy and Peter discover an encha...</td>\n",
       "      <td>6.925955</td>\n",
       "    </tr>\n",
       "    <tr>\n",
       "      <th>5</th>\n",
       "      <td>949</td>\n",
       "      <td>Action Crime Drama Thriller</td>\n",
       "      <td>7.7</td>\n",
       "      <td>1886.0</td>\n",
       "      <td>17.924927</td>\n",
       "      <td>Heat</td>\n",
       "      <td>Obsessive master thief, Neil McCauley leads a ...</td>\n",
       "      <td>7.546337</td>\n",
       "    </tr>\n",
       "    <tr>\n",
       "      <th>9</th>\n",
       "      <td>710</td>\n",
       "      <td>Adventure Action Thriller</td>\n",
       "      <td>6.6</td>\n",
       "      <td>1194.0</td>\n",
       "      <td>14.686036</td>\n",
       "      <td>GoldenEye</td>\n",
       "      <td>James Bond must unmask the mysterious head of ...</td>\n",
       "      <td>6.740631</td>\n",
       "    </tr>\n",
       "    <tr>\n",
       "      <th>15</th>\n",
       "      <td>524</td>\n",
       "      <td>Drama Crime</td>\n",
       "      <td>7.8</td>\n",
       "      <td>1343.0</td>\n",
       "      <td>10.137389</td>\n",
       "      <td>Casino</td>\n",
       "      <td>The life of the gambling paradise – Las Vegas ...</td>\n",
       "      <td>7.572950</td>\n",
       "    </tr>\n",
       "    <tr>\n",
       "      <th>...</th>\n",
       "      <td>...</td>\n",
       "      <td>...</td>\n",
       "      <td>...</td>\n",
       "      <td>...</td>\n",
       "      <td>...</td>\n",
       "      <td>...</td>\n",
       "      <td>...</td>\n",
       "      <td>...</td>\n",
       "    </tr>\n",
       "    <tr>\n",
       "      <th>4863</th>\n",
       "      <td>120</td>\n",
       "      <td>Adventure Fantasy Action</td>\n",
       "      <td>8.0</td>\n",
       "      <td>8892.0</td>\n",
       "      <td>32.070725</td>\n",
       "      <td>The Lord of the Rings: The Fellowship of the Ring</td>\n",
       "      <td>Young hobbit Frodo Baggins, after inheriting a...</td>\n",
       "      <td>7.942122</td>\n",
       "    </tr>\n",
       "    <tr>\n",
       "      <th>4865</th>\n",
       "      <td>453</td>\n",
       "      <td>Drama Romance</td>\n",
       "      <td>7.7</td>\n",
       "      <td>3087.0</td>\n",
       "      <td>11.93646</td>\n",
       "      <td>A Beautiful Mind</td>\n",
       "      <td>At Princeton University, John Nash struggles t...</td>\n",
       "      <td>7.596828</td>\n",
       "    </tr>\n",
       "    <tr>\n",
       "      <th>4880</th>\n",
       "      <td>855</td>\n",
       "      <td>Action History War</td>\n",
       "      <td>7.2</td>\n",
       "      <td>1832.0</td>\n",
       "      <td>10.064446</td>\n",
       "      <td>Black Hawk Down</td>\n",
       "      <td>When U.S. Rangers and an elite Delta Force tea...</td>\n",
       "      <td>7.161229</td>\n",
       "    </tr>\n",
       "    <tr>\n",
       "      <th>4936</th>\n",
       "      <td>10229</td>\n",
       "      <td>Drama Romance</td>\n",
       "      <td>7.5</td>\n",
       "      <td>1057.0</td>\n",
       "      <td>8.054499</td>\n",
       "      <td>A Walk to Remember</td>\n",
       "      <td>When the popular, restless Landon Carter is fo...</td>\n",
       "      <td>7.337865</td>\n",
       "    </tr>\n",
       "    <tr>\n",
       "      <th>4977</th>\n",
       "      <td>8470</td>\n",
       "      <td>Drama Thriller Crime</td>\n",
       "      <td>7.0</td>\n",
       "      <td>604.0</td>\n",
       "      <td>8.867562</td>\n",
       "      <td>John Q</td>\n",
       "      <td>John Quincy Archibald is a father and husband ...</td>\n",
       "      <td>7.017546</td>\n",
       "    </tr>\n",
       "  </tbody>\n",
       "</table>\n",
       "<p>500 rows × 8 columns</p>\n",
       "</div>"
      ],
      "text/plain": [
       "         id                       genres  vote_average  vote_count popularity  \\\n",
       "0       862      Animation Comedy Family           7.7      5415.0  21.946943   \n",
       "1      8844     Adventure Fantasy Family           6.9      2413.0  17.015539   \n",
       "5       949  Action Crime Drama Thriller           7.7      1886.0  17.924927   \n",
       "9       710    Adventure Action Thriller           6.6      1194.0  14.686036   \n",
       "15      524                  Drama Crime           7.8      1343.0  10.137389   \n",
       "...     ...                          ...           ...         ...        ...   \n",
       "4863    120     Adventure Fantasy Action           8.0      8892.0  32.070725   \n",
       "4865    453                Drama Romance           7.7      3087.0   11.93646   \n",
       "4880    855           Action History War           7.2      1832.0  10.064446   \n",
       "4936  10229                Drama Romance           7.5      1057.0   8.054499   \n",
       "4977   8470         Drama Thriller Crime           7.0       604.0   8.867562   \n",
       "\n",
       "                                                  title  \\\n",
       "0                                             Toy Story   \n",
       "1                                               Jumanji   \n",
       "5                                                  Heat   \n",
       "9                                             GoldenEye   \n",
       "15                                               Casino   \n",
       "...                                                 ...   \n",
       "4863  The Lord of the Rings: The Fellowship of the Ring   \n",
       "4865                                   A Beautiful Mind   \n",
       "4880                                    Black Hawk Down   \n",
       "4936                                 A Walk to Remember   \n",
       "4977                                             John Q   \n",
       "\n",
       "                                               overview     score  \n",
       "0     Led by Woody, Andy's toys live happily in his ...  7.636972  \n",
       "1     When siblings Judy and Peter discover an encha...  6.925955  \n",
       "5     Obsessive master thief, Neil McCauley leads a ...  7.546337  \n",
       "9     James Bond must unmask the mysterious head of ...  6.740631  \n",
       "15    The life of the gambling paradise – Las Vegas ...  7.572950  \n",
       "...                                                 ...       ...  \n",
       "4863  Young hobbit Frodo Baggins, after inheriting a...  7.942122  \n",
       "4865  At Princeton University, John Nash struggles t...  7.596828  \n",
       "4880  When U.S. Rangers and an elite Delta Force tea...  7.161229  \n",
       "4936  When the popular, restless Landon Carter is fo...  7.337865  \n",
       "4977  John Quincy Archibald is a father and husband ...  7.017546  \n",
       "\n",
       "[500 rows x 8 columns]"
      ]
     },
     "execution_count": 62,
     "metadata": {},
     "output_type": "execute_result"
    }
   ],
   "source": [
    "data"
   ]
  },
  {
   "cell_type": "code",
   "execution_count": 63,
   "id": "af5a40cc",
   "metadata": {},
   "outputs": [],
   "source": [
    "tfidf=TfidfVectorizer()"
   ]
  },
  {
   "cell_type": "markdown",
   "id": "7f9af4d1",
   "metadata": {},
   "source": [
    "### fit_transform : fit과 transform을 동시에 함"
   ]
  },
  {
   "cell_type": "code",
   "execution_count": 64,
   "id": "f448cfa5",
   "metadata": {},
   "outputs": [],
   "source": [
    "tfidf_mat=tfidf.fit_transform(data[\"genres\"])"
   ]
  },
  {
   "cell_type": "code",
   "execution_count": 65,
   "id": "811bbf25",
   "metadata": {},
   "outputs": [
    {
     "data": {
      "text/plain": [
       "<500x18 sparse matrix of type '<class 'numpy.float64'>'\n",
       "\twith 1480 stored elements in Compressed Sparse Row format>"
      ]
     },
     "execution_count": 65,
     "metadata": {},
     "output_type": "execute_result"
    }
   ],
   "source": [
    "tfidf_mat #sparse matrix(희소행렬) : 요소값이 대두분 0인 행렬 <---(반의어)---> Dense matrix(밀집행렬)"
   ]
  },
  {
   "cell_type": "markdown",
   "id": "6dde7d74",
   "metadata": {},
   "source": [
    ">- <500x18 sparse matrix of type '<class 'numpy.float64'>'\n",
    "\t- with 1480 stored elements in Compressed Sparse Row format>\n",
    "- 9000개중 1480개가 0이 아니다라는 뜻"
   ]
  },
  {
   "cell_type": "code",
   "execution_count": 66,
   "id": "db6cd58d",
   "metadata": {},
   "outputs": [
    {
     "data": {
      "text/plain": [
       "<bound method spmatrix.get_shape of <500x18 sparse matrix of type '<class 'numpy.float64'>'\n",
       "\twith 1480 stored elements in Compressed Sparse Row format>>"
      ]
     },
     "execution_count": 66,
     "metadata": {},
     "output_type": "execute_result"
    }
   ],
   "source": [
    "tfidf_mat.get_shape"
   ]
  },
  {
   "cell_type": "code",
   "execution_count": 67,
   "id": "960dd51a",
   "metadata": {},
   "outputs": [
    {
     "data": {
      "text/plain": [
       "array([[0.        , 0.        , 0.68446074, ..., 0.        , 0.        ,\n",
       "        0.        ],\n",
       "       [0.        , 0.49643844, 0.        , ..., 0.        , 0.        ,\n",
       "        0.        ],\n",
       "       [0.49221759, 0.        , 0.        , ..., 0.49221759, 0.        ,\n",
       "        0.        ],\n",
       "       ...,\n",
       "       [0.36719214, 0.        , 0.        , ..., 0.        , 0.6472816 ,\n",
       "        0.        ],\n",
       "       [0.        , 0.        , 0.        , ..., 0.        , 0.        ,\n",
       "        0.        ],\n",
       "       [0.        , 0.        , 0.        , ..., 0.56546043, 0.        ,\n",
       "        0.        ]])"
      ]
     },
     "execution_count": 67,
     "metadata": {},
     "output_type": "execute_result"
    }
   ],
   "source": [
    "tfidf_mat.toarray()"
   ]
  },
  {
   "cell_type": "code",
   "execution_count": 68,
   "id": "1cc2395b",
   "metadata": {},
   "outputs": [
    {
     "data": {
      "text/plain": [
       "array([0.        , 0.49643844, 0.        , 0.        , 0.        ,\n",
       "       0.        , 0.60687195, 0.62068938, 0.        , 0.        ,\n",
       "       0.        , 0.        , 0.        , 0.        , 0.        ,\n",
       "       0.        , 0.        , 0.        ])"
      ]
     },
     "execution_count": 68,
     "metadata": {},
     "output_type": "execute_result"
    }
   ],
   "source": [
    "tfidf_mat.toarray()[1]"
   ]
  },
  {
   "cell_type": "markdown",
   "id": "732149be",
   "metadata": {},
   "source": [
    "array([0.        , 0.49643844, 0.        , 0.        , 0.        ,\n",
    "       0.        , 0.60687195, 0.62068938, 0.        , 0.        ,\n",
    "       0.        , 0.        , 0.        , 0.        , 0.        ,\n",
    "       0.        , 0.        , 0.        ])\n",
    "       - 여기서 번호가 큰것은 중요하다는 말, 가장 대표할 수 있는 장르다"
   ]
  },
  {
   "cell_type": "code",
   "execution_count": 69,
   "id": "783ae95e",
   "metadata": {},
   "outputs": [
    {
     "data": {
      "text/plain": [
       "array([0.        , 0.        , 0.        , 0.        , 0.66922507,\n",
       "       0.48207085, 0.        , 0.        , 0.        , 0.        ,\n",
       "       0.        , 0.        , 0.        , 0.        , 0.        ,\n",
       "       0.56546043, 0.        , 0.        ])"
      ]
     },
     "execution_count": 69,
     "metadata": {},
     "output_type": "execute_result"
    }
   ],
   "source": [
    "tfidf_mat.toarray()[499]"
   ]
  },
  {
   "cell_type": "code",
   "execution_count": 70,
   "id": "7250d9c1",
   "metadata": {},
   "outputs": [
    {
     "data": {
      "text/plain": [
       "<500x1 sparse matrix of type '<class 'numpy.float64'>'\n",
       "\twith 140 stored elements in Compressed Sparse Row format>"
      ]
     },
     "execution_count": 70,
     "metadata": {},
     "output_type": "execute_result"
    }
   ],
   "source": [
    "tfidf_mat.getcol(0)"
   ]
  },
  {
   "cell_type": "code",
   "execution_count": 71,
   "id": "47cf59c3",
   "metadata": {},
   "outputs": [
    {
     "data": {
      "text/plain": [
       "{'animation': 2,\n",
       " 'comedy': 3,\n",
       " 'family': 6,\n",
       " 'adventure': 1,\n",
       " 'fantasy': 7,\n",
       " 'action': 0,\n",
       " 'crime': 4,\n",
       " 'drama': 5,\n",
       " 'thriller': 15,\n",
       " 'science': 14,\n",
       " 'fiction': 8,\n",
       " 'mystery': 12,\n",
       " 'romance': 13,\n",
       " 'horror': 10,\n",
       " 'history': 9,\n",
       " 'war': 16,\n",
       " 'western': 17,\n",
       " 'music': 11}"
      ]
     },
     "execution_count": 71,
     "metadata": {},
     "output_type": "execute_result"
    }
   ],
   "source": [
    "tfidf.vocabulary_"
   ]
  },
  {
   "cell_type": "code",
   "execution_count": 72,
   "id": "f6bc531e",
   "metadata": {},
   "outputs": [],
   "source": [
    "tfidf.get_feature_names_out()\n",
    "tfidf_df = pd.DataFrame(tfidf_mat.toarray(), columns=tfidf.get_feature_names_out())"
   ]
  },
  {
   "cell_type": "code",
   "execution_count": 73,
   "id": "d73e59dd",
   "metadata": {},
   "outputs": [
    {
     "data": {
      "text/plain": [
       "array([1.        , 0.3541364 , 0.        , 0.        , 0.        ,\n",
       "       0.22443568, 0.        , 0.51965981, 0.22892439, 0.        ,\n",
       "       0.73997229, 0.        , 0.        , 0.        , 0.4370241 ,\n",
       "       0.        , 0.        , 0.19780967, 0.        , 0.        ,\n",
       "       0.56412632, 0.        , 0.        , 0.        , 0.        ,\n",
       "       0.        , 0.4370241 , 0.4370241 , 0.18457278, 0.        ,\n",
       "       0.        , 0.        , 0.        , 0.        , 0.        ,\n",
       "       0.        , 0.        , 0.        , 0.23310648, 0.        ,\n",
       "       0.22892439, 0.22892439, 0.82251485, 0.17441201, 0.        ,\n",
       "       0.        , 0.        , 0.        , 0.32310383, 0.        ,\n",
       "       0.        , 0.        , 0.46026541, 0.63989718, 0.        ,\n",
       "       0.4370241 , 0.        , 0.22892439, 0.        , 0.7494637 ,\n",
       "       0.        , 0.        , 0.72904972, 0.        , 0.71968376,\n",
       "       0.        , 0.        , 0.        , 0.        , 0.7494637 ,\n",
       "       0.53732606, 0.8994498 , 0.26047833, 0.        , 0.90245203,\n",
       "       0.        , 0.        , 0.81254429, 0.        , 0.        ,\n",
       "       0.40656686, 0.18848699, 0.        , 0.        , 0.82251485,\n",
       "       0.25355554, 0.15414631, 0.56412632, 0.        , 0.16798352,\n",
       "       0.22892439, 0.        , 0.        , 0.        , 0.26047833,\n",
       "       0.        , 0.3541364 , 0.        , 0.        , 0.        ,\n",
       "       0.36823541, 0.        , 0.65796008, 0.8994498 , 0.        ,\n",
       "       0.56412632, 0.8994498 , 0.68543322, 0.73997229, 0.26915473,\n",
       "       0.        , 0.        , 0.        , 0.40795744, 0.27110646,\n",
       "       0.4370241 , 0.        , 0.        , 0.        , 0.        ,\n",
       "       0.27211991, 0.        , 0.        , 0.        , 0.21694111,\n",
       "       0.        , 0.        , 0.        , 0.43954943, 0.        ,\n",
       "       0.2093457 , 0.        , 0.        , 0.        , 0.        ,\n",
       "       0.        , 0.        , 0.        , 0.        , 0.        ,\n",
       "       0.        , 0.        , 0.18841687, 0.        , 0.15756266,\n",
       "       0.        , 0.        , 0.        , 0.        , 0.        ,\n",
       "       0.22892439, 0.        , 0.2360388 , 0.        , 0.        ,\n",
       "       0.22892439, 0.        , 0.        , 0.        , 0.        ,\n",
       "       0.        , 0.18841687, 0.        , 0.        , 0.18618771,\n",
       "       0.        , 0.44909582, 0.44470328, 0.        , 0.2093457 ,\n",
       "       0.4370241 , 0.64688556, 0.        , 0.        , 0.        ,\n",
       "       0.        , 0.22892439, 0.        , 0.23310648, 0.        ,\n",
       "       0.        , 0.        , 0.        , 0.        , 0.        ,\n",
       "       0.72904972, 0.72904972, 0.        , 0.        , 0.        ,\n",
       "       0.        , 0.        , 0.17518838, 0.22892439, 0.        ,\n",
       "       0.        , 0.        , 0.        , 0.4370241 , 0.        ,\n",
       "       0.17906457, 0.        , 0.        , 0.        , 0.        ,\n",
       "       0.71968376, 0.26047833, 0.        , 0.16893414, 0.        ,\n",
       "       0.        , 0.        , 0.        , 0.        , 0.        ,\n",
       "       0.        , 0.        , 0.        , 0.        , 0.        ,\n",
       "       0.4370241 , 0.        , 0.        , 0.32310383, 0.8994498 ,\n",
       "       0.        , 0.49078714, 0.        , 0.72904972, 0.        ,\n",
       "       0.        , 0.        , 0.20802466, 0.27110646, 0.        ,\n",
       "       0.26047833, 0.26047833, 0.        , 0.        , 0.        ,\n",
       "       0.2513724 , 0.79449286, 0.56412632, 0.        , 0.17732175,\n",
       "       0.        , 0.26047833, 0.        , 0.        , 0.3541364 ,\n",
       "       0.32310383, 0.        , 0.        , 0.        , 0.        ,\n",
       "       0.        , 0.17732175, 0.17732175, 0.17732175, 0.18841687,\n",
       "       0.18841687, 0.60993596, 0.        , 0.        , 0.44909582,\n",
       "       0.44909582, 0.82251485, 0.        , 0.        , 0.        ,\n",
       "       0.        , 0.44909582, 0.        , 0.63989718, 0.        ,\n",
       "       0.79449286, 0.8994498 , 0.8994498 , 0.90245203, 0.55198001,\n",
       "       0.68543322, 0.65796008, 0.        , 0.        , 0.18841687,\n",
       "       0.        , 0.32721175, 0.        , 0.25818987, 0.        ,\n",
       "       0.        , 0.        , 0.19780967, 0.        , 0.        ,\n",
       "       0.        , 0.90245203, 0.        , 0.        , 0.32310383,\n",
       "       0.        , 0.        , 0.        , 0.90245203, 0.27110646,\n",
       "       0.57929243, 0.32310383, 0.        , 0.        , 0.        ,\n",
       "       0.        , 0.        , 0.        , 0.        , 0.        ,\n",
       "       0.        , 0.4370241 , 0.26047833, 0.        , 0.32310383,\n",
       "       0.        , 0.        , 0.        , 0.27110646, 0.        ,\n",
       "       0.        , 0.27110646, 0.        , 0.22892439, 0.        ,\n",
       "       0.        , 0.        , 0.        , 0.        , 0.13282179,\n",
       "       0.22892439, 0.1634424 , 0.73997229, 0.        , 0.32310383,\n",
       "       0.55449054, 0.1279817 , 0.26047833, 0.        , 0.        ,\n",
       "       0.25818987, 0.25818987, 0.        , 0.56719647, 0.        ,\n",
       "       0.4370241 , 0.45037455, 0.        , 0.23933134, 0.        ,\n",
       "       0.4370241 , 0.        , 0.        , 0.        , 0.        ,\n",
       "       0.51511353, 0.        , 0.        , 0.77579698, 0.        ,\n",
       "       0.22736625, 0.45663948, 0.        , 0.        , 0.2093457 ,\n",
       "       0.8994498 , 0.4370241 , 0.21694111, 0.        , 0.        ,\n",
       "       1.        , 0.        , 0.2093457 , 0.85869144, 0.        ,\n",
       "       0.49078714, 0.        , 0.        , 0.19636157, 0.        ,\n",
       "       0.19636157, 0.        , 0.25818987, 0.        , 0.        ,\n",
       "       0.        , 0.        , 0.        , 0.        , 0.        ,\n",
       "       0.        , 0.        , 0.18848699, 0.32310383, 0.        ,\n",
       "       0.15854887, 0.90245203, 0.50322522, 0.        , 0.        ,\n",
       "       0.        , 0.        , 0.        , 0.        , 0.15167056,\n",
       "       0.17889002, 0.        , 0.        , 0.        , 0.        ,\n",
       "       0.        , 0.        , 0.        , 0.19165872, 1.        ,\n",
       "       0.4370241 , 0.        , 0.        , 0.4370241 , 0.        ,\n",
       "       0.15854887, 0.        , 0.27110646, 0.4370241 , 0.        ,\n",
       "       0.        , 0.26047833, 0.        , 0.18173387, 0.17732175,\n",
       "       0.        , 0.56412632, 0.        , 0.        , 0.        ,\n",
       "       0.22892439, 0.79453349, 0.26047833, 0.        , 0.22598541,\n",
       "       0.23933134, 0.        , 0.22598541, 0.22598541, 0.        ,\n",
       "       0.        , 0.        , 0.        , 0.53763662, 0.        ,\n",
       "       0.22892439, 0.        , 0.        , 0.        , 0.79453349,\n",
       "       0.        , 0.        , 0.18636094, 0.        , 0.        ,\n",
       "       0.62449675, 0.        , 0.        , 0.        , 0.4370241 ,\n",
       "       0.4370241 , 0.26047833, 0.79449286, 0.        , 0.        ,\n",
       "       0.56719275, 0.19780967, 0.26047833, 0.        , 0.        ,\n",
       "       0.        , 0.4370241 , 0.        , 0.        , 0.        ,\n",
       "       0.        , 0.        , 1.        , 0.26047833, 0.3541364 ,\n",
       "       0.        , 0.        , 0.26047833, 0.        , 0.32310383,\n",
       "       0.        , 0.        , 0.        , 0.        , 0.        ])"
      ]
     },
     "execution_count": 73,
     "metadata": {},
     "output_type": "execute_result"
    }
   ],
   "source": [
    "cosine_similarity(tfidf_df)[0]"
   ]
  },
  {
   "cell_type": "code",
   "execution_count": 74,
   "id": "a8b16542",
   "metadata": {},
   "outputs": [
    {
     "name": "stdout",
     "output_type": "stream",
     "text": [
      "John Q\n",
      "A Walk to Remember\n",
      "Rain Man\n",
      "Rocky\n",
      "Pi\n",
      "Armageddon\n",
      "Cast Away\n",
      "Godzilla\n",
      "Deep Impact\n",
      "The Man in the Iron Mask\n"
     ]
    }
   ],
   "source": [
    "hightest_10=cosine_similarity(tfidf_df)[0].argsort()[:10]\n",
    "for i in hightest_10:\n",
    "    x =data[\"title\"].iloc[i]\n",
    "    print(x)"
   ]
  },
  {
   "cell_type": "code",
   "execution_count": 75,
   "id": "d9ff4648",
   "metadata": {},
   "outputs": [
    {
     "data": {
      "text/plain": [
       "array([499, 498, 248, 247, 245, 243, 443, 239, 238, 237], dtype=int64)"
      ]
     },
     "execution_count": 75,
     "metadata": {},
     "output_type": "execute_result"
    }
   ],
   "source": [
    "hightest_10"
   ]
  },
  {
   "cell_type": "code",
   "execution_count": 76,
   "id": "c56b2d56",
   "metadata": {},
   "outputs": [
    {
     "data": {
      "text/plain": [
       "1.0000000000000002"
      ]
     },
     "execution_count": 76,
     "metadata": {},
     "output_type": "execute_result"
    }
   ],
   "source": [
    "(cosine_similarity(tfidf_df)[0].max())"
   ]
  },
  {
   "cell_type": "code",
   "execution_count": 77,
   "id": "9d7fcbc2",
   "metadata": {},
   "outputs": [
    {
     "data": {
      "text/plain": [
       "array([499, 498, 248, 247, 245, 243, 443, 239, 238, 237], dtype=int64)"
      ]
     },
     "execution_count": 77,
     "metadata": {},
     "output_type": "execute_result"
    }
   ],
   "source": [
    "cosine_similarity(tfidf_df)[0].argsort()[:10]\n",
    "    "
   ]
  },
  {
   "cell_type": "code",
   "execution_count": null,
   "id": "aa83e0d8",
   "metadata": {},
   "outputs": [],
   "source": []
  }
 ],
 "metadata": {
  "kernelspec": {
   "display_name": "Python 3 (ipykernel)",
   "language": "python",
   "name": "python3"
  },
  "language_info": {
   "codemirror_mode": {
    "name": "ipython",
    "version": 3
   },
   "file_extension": ".py",
   "mimetype": "text/x-python",
   "name": "python",
   "nbconvert_exporter": "python",
   "pygments_lexer": "ipython3",
   "version": "3.11.3"
  }
 },
 "nbformat": 4,
 "nbformat_minor": 5
}
