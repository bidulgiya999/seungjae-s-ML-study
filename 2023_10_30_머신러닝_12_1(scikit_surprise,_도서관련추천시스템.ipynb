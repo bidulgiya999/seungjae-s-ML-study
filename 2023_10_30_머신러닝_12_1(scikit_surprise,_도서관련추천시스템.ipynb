{
  "cells": [
    {
      "cell_type": "markdown",
      "metadata": {
        "id": "view-in-github",
        "colab_type": "text"
      },
      "source": [
        "<a href=\"https://colab.research.google.com/github/bidulgiya999/seungjae-s-ML-study/blob/master/2023_10_30_%EB%A8%B8%EC%8B%A0%EB%9F%AC%EB%8B%9D_12_1(scikit_surprise%2C_%EB%8F%84%EC%84%9C%EA%B4%80%EB%A0%A8%EC%B6%94%EC%B2%9C%EC%8B%9C%EC%8A%A4%ED%85%9C.ipynb\" target=\"_parent\"><img src=\"https://colab.research.google.com/assets/colab-badge.svg\" alt=\"Open In Colab\"/></a>"
      ]
    },
    {
      "cell_type": "code",
      "execution_count": null,
      "id": "7cae9e5e",
      "metadata": {
        "id": "7cae9e5e"
      },
      "outputs": [],
      "source": [
        "import pandas as pd\n",
        "import numpy as np\n",
        "import seaborn as sns\n",
        "import matplotlib.pyplot as plt\n",
        "from sklearn.feature_extraction.text import TfidfVectorizer\n",
        "from sklearn.feature_extraction.text import CountVectorizer\n",
        "from sklearn.metrics.pairwise import cosine_similarity\n",
        "from tensorflow.keras.models import Sequential\n",
        "from tensorflow.keras.layers import Dense, Activation"
      ]
    },
    {
      "cell_type": "code",
      "execution_count": null,
      "id": "cb812929",
      "metadata": {
        "id": "cb812929"
      },
      "outputs": [],
      "source": [
        "from sklearn.datasets import load_iris\n",
        "import matplotlib.pyplot as plt\n",
        "from sklearn.preprocessing import StandardScaler\n",
        "from sklearn.decomposition import PCA\n",
        "from ast import literal_eval\n",
        "from sklearn.metrics.pairwise import linear_kernel"
      ]
    },
    {
      "cell_type": "code",
      "execution_count": null,
      "id": "441729de",
      "metadata": {
        "id": "441729de"
      },
      "outputs": [],
      "source": [
        "from sklearn.ensemble import RandomForestClassifier\n",
        "from sklearn.model_selection import cross_val_score"
      ]
    },
    {
      "cell_type": "code",
      "execution_count": null,
      "id": "f4f2befd",
      "metadata": {
        "id": "f4f2befd"
      },
      "outputs": [],
      "source": [
        "pip list"
      ]
    },
    {
      "cell_type": "code",
      "execution_count": null,
      "id": "cfc745ff",
      "metadata": {
        "id": "cfc745ff"
      },
      "outputs": [],
      "source": [
        "pip install pip==21.3.1"
      ]
    },
    {
      "cell_type": "code",
      "execution_count": null,
      "id": "8d557997",
      "metadata": {
        "id": "8d557997"
      },
      "outputs": [],
      "source": [
        "pip install --upgrade pip"
      ]
    },
    {
      "cell_type": "markdown",
      "id": "9fbf6ad8",
      "metadata": {
        "id": "9fbf6ad8"
      },
      "source": [
        "![image.png](attachment:image.png)"
      ]
    },
    {
      "cell_type": "code",
      "execution_count": null,
      "id": "f2dcff5d",
      "metadata": {
        "id": "f2dcff5d"
      },
      "outputs": [],
      "source": [
        "pip install scikit-surprise"
      ]
    },
    {
      "cell_type": "code",
      "execution_count": null,
      "id": "d231880a",
      "metadata": {
        "id": "d231880a"
      },
      "outputs": [],
      "source": [
        "import surprise"
      ]
    },
    {
      "cell_type": "code",
      "execution_count": null,
      "id": "c15fc3bb",
      "metadata": {
        "id": "c15fc3bb"
      },
      "outputs": [],
      "source": [
        "from surprise import Dataset\n",
        "from surprise.model_selection import train_test_split\n",
        "\n",
        "data = Dataset.load_builtin('ml-100k')\n",
        "\n",
        "trainset, testset = train_test_split(data, test_size=0.25, random_state=0)"
      ]
    },
    {
      "cell_type": "code",
      "execution_count": null,
      "id": "ee92c03e",
      "metadata": {
        "id": "ee92c03e"
      },
      "outputs": [],
      "source": [
        "pip install pip==23.2.1"
      ]
    },
    {
      "cell_type": "markdown",
      "id": "afb18ae7",
      "metadata": {
        "id": "afb18ae7"
      },
      "source": [
        "# 도서관련 추천 시스템"
      ]
    },
    {
      "cell_type": "code",
      "execution_count": null,
      "id": "5c915140",
      "metadata": {
        "id": "5c915140"
      },
      "outputs": [],
      "source": [
        "import numpy as np\n",
        "import pandas as pd\n",
        "import random\n",
        "\n",
        "from surprise import accuracy\n",
        "from surprise import Dataset\n",
        "from surprise import Reader\n",
        "from surprise import SVD\n",
        "from surprise.model_selection import GridSearchCV"
      ]
    },
    {
      "cell_type": "code",
      "execution_count": null,
      "id": "2b441abb",
      "metadata": {
        "id": "2b441abb"
      },
      "outputs": [],
      "source": [
        "np.random.seed(20231030)"
      ]
    },
    {
      "cell_type": "code",
      "execution_count": null,
      "id": "f142cf5e",
      "metadata": {
        "id": "f142cf5e"
      },
      "outputs": [],
      "source": [
        "ratings_data=pd.read_csv(\"ratings.csv\")\n",
        "ratings_data"
      ]
    },
    {
      "cell_type": "code",
      "execution_count": null,
      "id": "3e3e985d",
      "metadata": {
        "id": "3e3e985d"
      },
      "outputs": [],
      "source": [
        "ratings_data[\"book_id\"]"
      ]
    },
    {
      "cell_type": "code",
      "execution_count": null,
      "id": "f50eddf4",
      "metadata": {
        "id": "f50eddf4"
      },
      "outputs": [],
      "source": [
        "len(set(ratings_data[\"book_id\"]))"
      ]
    },
    {
      "cell_type": "code",
      "execution_count": null,
      "id": "afd6d8d4",
      "metadata": {
        "id": "afd6d8d4"
      },
      "outputs": [],
      "source": [
        "len(set(ratings_data[\"user_id\"]))"
      ]
    },
    {
      "cell_type": "code",
      "execution_count": null,
      "id": "3b505ea8",
      "metadata": {
        "id": "3b505ea8"
      },
      "outputs": [],
      "source": [
        "reader = Reader(rating_scale=(1, 5))"
      ]
    },
    {
      "cell_type": "code",
      "execution_count": null,
      "id": "c295cefe",
      "metadata": {
        "id": "c295cefe"
      },
      "outputs": [],
      "source": [
        "ratings_data"
      ]
    },
    {
      "cell_type": "code",
      "execution_count": null,
      "id": "897d0a72",
      "metadata": {
        "id": "897d0a72"
      },
      "outputs": [],
      "source": [
        "ratings_data\n",
        "data=Dataset.load_from_df(ratings_data[['user_id','book_id','rating']], reader)"
      ]
    },
    {
      "cell_type": "code",
      "execution_count": null,
      "id": "5be973a4",
      "metadata": {
        "id": "5be973a4"
      },
      "outputs": [],
      "source": [
        "data"
      ]
    },
    {
      "cell_type": "code",
      "execution_count": null,
      "id": "ab18a793",
      "metadata": {
        "id": "ab18a793"
      },
      "outputs": [],
      "source": [
        "# 사용자 아이디와 책 아이디 , 평점, none은 시간 정보가 있다면 시간정보가 들어감"
      ]
    },
    {
      "cell_type": "code",
      "execution_count": null,
      "id": "438e4d29",
      "metadata": {
        "id": "438e4d29"
      },
      "outputs": [],
      "source": [
        "raw_ratings=data.raw_ratings\n",
        "raw_ratings"
      ]
    },
    {
      "cell_type": "code",
      "execution_count": null,
      "id": "21f664e9",
      "metadata": {
        "id": "21f664e9"
      },
      "outputs": [],
      "source": [
        "len(raw_ratings)"
      ]
    },
    {
      "cell_type": "code",
      "execution_count": null,
      "id": "fae8743d",
      "metadata": {
        "id": "fae8743d"
      },
      "outputs": [],
      "source": [
        "random.shuffle(raw_ratings)"
      ]
    },
    {
      "cell_type": "code",
      "execution_count": null,
      "id": "761ec28b",
      "metadata": {
        "id": "761ec28b"
      },
      "outputs": [],
      "source": [
        "raw_ratings"
      ]
    },
    {
      "cell_type": "code",
      "execution_count": null,
      "id": "a87e75d9",
      "metadata": {
        "id": "a87e75d9"
      },
      "outputs": [],
      "source": [
        "int(0.9*len(raw_ratings))"
      ]
    },
    {
      "cell_type": "code",
      "execution_count": null,
      "id": "3aa42d8e",
      "metadata": {
        "id": "3aa42d8e"
      },
      "outputs": [],
      "source": [
        "train_test_split_index = int(0.9 * len(raw_ratings))"
      ]
    },
    {
      "cell_type": "code",
      "execution_count": null,
      "id": "8bf2c828",
      "metadata": {
        "id": "8bf2c828"
      },
      "outputs": [],
      "source": [
        "raw_ratings_train = raw_ratings[:train_test_split_index]\n",
        "raw_ratings_test = raw_ratings[train_test_split_index:]"
      ]
    },
    {
      "cell_type": "code",
      "execution_count": null,
      "id": "be131e18",
      "metadata": {
        "id": "be131e18"
      },
      "outputs": [],
      "source": [
        "len(raw_ratings_train) #훈련용"
      ]
    },
    {
      "cell_type": "code",
      "execution_count": null,
      "id": "93816f66",
      "metadata": {
        "id": "93816f66"
      },
      "outputs": [],
      "source": [
        "len(raw_ratings_test) #테스트용"
      ]
    },
    {
      "cell_type": "code",
      "execution_count": null,
      "id": "0bbc2feb",
      "metadata": {
        "id": "0bbc2feb"
      },
      "outputs": [],
      "source": [
        "raw_ratings_train"
      ]
    },
    {
      "cell_type": "code",
      "execution_count": null,
      "id": "8fcea152",
      "metadata": {
        "id": "8fcea152"
      },
      "outputs": [],
      "source": [
        "raw_ratings_test"
      ]
    },
    {
      "cell_type": "code",
      "execution_count": null,
      "id": "b8fae98d",
      "metadata": {
        "id": "b8fae98d"
      },
      "outputs": [],
      "source": [
        "# data변수에 담긴 트레인 데이터로 훈련"
      ]
    },
    {
      "cell_type": "code",
      "execution_count": null,
      "id": "55fc98e7",
      "metadata": {
        "id": "55fc98e7"
      },
      "outputs": [],
      "source": [
        "data.raw_ratings = raw_ratings_train"
      ]
    },
    {
      "cell_type": "code",
      "execution_count": null,
      "id": "7ebcb6d6",
      "metadata": {
        "id": "7ebcb6d6"
      },
      "outputs": [],
      "source": [
        "# test 데이터셋 구성"
      ]
    },
    {
      "cell_type": "code",
      "execution_count": null,
      "id": "cae6d909",
      "metadata": {
        "id": "cae6d909"
      },
      "outputs": [],
      "source": [
        "test=data.construct_testset(raw_ratings_test)"
      ]
    },
    {
      "cell_type": "code",
      "execution_count": null,
      "id": "04bffcb3",
      "metadata": {
        "id": "04bffcb3"
      },
      "outputs": [],
      "source": [
        "# 튜닝, param_grid의 설정값으로 튜닝을 하는 것"
      ]
    },
    {
      "cell_type": "code",
      "execution_count": null,
      "id": "d3ed8c57",
      "metadata": {
        "id": "d3ed8c57"
      },
      "outputs": [],
      "source": [
        "param_grid = {\n",
        "    \"n_factors\": [70,75],\n",
        "    \"n_epochs\": [20,30],\n",
        "    \"lr_all\": [0.005, 0.025, 0.125],\n",
        "    \"reg_all\": [0.08, 0.16, 0.32],\n",
        "    \"random_state\": [0],\n",
        "}"
      ]
    },
    {
      "cell_type": "code",
      "execution_count": null,
      "id": "2a4fb81b",
      "metadata": {
        "id": "2a4fb81b"
      },
      "outputs": [],
      "source": [
        "param_grid"
      ]
    },
    {
      "cell_type": "code",
      "execution_count": null,
      "id": "75d6f897",
      "metadata": {
        "id": "75d6f897"
      },
      "outputs": [],
      "source": [
        "grid_search = GridSearchCV(\n",
        "    SVD,\n",
        "    param_grid,\n",
        "    measures=[\"rmse\", \"mae\"],\n",
        "    cv=3,\n",
        "    refit=True,\n",
        "    n_jobs=-1,\n",
        "    joblib_verbose=2\n",
        ")"
      ]
    },
    {
      "cell_type": "code",
      "execution_count": null,
      "id": "5c765e7e",
      "metadata": {
        "id": "5c765e7e"
      },
      "outputs": [],
      "source": [
        "grid_search"
      ]
    },
    {
      "cell_type": "code",
      "execution_count": null,
      "id": "ff9c998e",
      "metadata": {
        "id": "ff9c998e"
      },
      "outputs": [],
      "source": [
        "grid_search.fit(data) #트레인 데이터:data_raw_ratings"
      ]
    },
    {
      "cell_type": "code",
      "execution_count": null,
      "id": "12fd5d6e",
      "metadata": {
        "id": "12fd5d6e"
      },
      "outputs": [],
      "source": [
        "grid_search.best_params"
      ]
    },
    {
      "cell_type": "code",
      "execution_count": null,
      "id": "3fda515f",
      "metadata": {
        "id": "3fda515f"
      },
      "outputs": [],
      "source": [
        "best_model=grid_search.best_estimator[\"rmse\"]"
      ]
    },
    {
      "cell_type": "code",
      "execution_count": null,
      "id": "786e07cc",
      "metadata": {
        "id": "786e07cc"
      },
      "outputs": [],
      "source": [
        "best_model"
      ]
    },
    {
      "cell_type": "code",
      "execution_count": null,
      "id": "33800d78",
      "metadata": {
        "id": "33800d78"
      },
      "outputs": [],
      "source": [
        "best_model.predict(uid=10,iid=1000)"
      ]
    },
    {
      "cell_type": "code",
      "execution_count": null,
      "id": "de2f8e49",
      "metadata": {
        "id": "de2f8e49"
      },
      "outputs": [],
      "source": [
        "testset_predictions = best_model.test(test)\n",
        "accuracy.rmse(testset_predictions)"
      ]
    },
    {
      "cell_type": "code",
      "execution_count": null,
      "id": "4e63dbb0",
      "metadata": {
        "id": "4e63dbb0"
      },
      "outputs": [],
      "source": [
        "testset_predictions"
      ]
    },
    {
      "cell_type": "markdown",
      "id": "c0608b2b",
      "metadata": {
        "id": "c0608b2b"
      },
      "source": [
        "![image.png](attachment:image.png)"
      ]
    },
    {
      "cell_type": "code",
      "execution_count": null,
      "id": "cc9fa50c",
      "metadata": {
        "id": "cc9fa50c"
      },
      "outputs": [],
      "source": [
        "len(testset_predictions)"
      ]
    },
    {
      "cell_type": "code",
      "execution_count": null,
      "id": "bc14841f",
      "metadata": {
        "id": "bc14841f"
      },
      "outputs": [],
      "source": [
        "data = Dataset.load_builtin('ml-100k') #무비렌즈\n",
        "\n",
        "trainset, testset = train_test_split(data, test_size=0.25, random_state=0)"
      ]
    },
    {
      "cell_type": "code",
      "execution_count": null,
      "id": "38248efa",
      "metadata": {
        "id": "38248efa"
      },
      "outputs": [],
      "source": [
        "data.raw_ratings[:10] #사용자id, 상품id, 평점, 시간"
      ]
    },
    {
      "cell_type": "code",
      "execution_count": null,
      "id": "97223ab5",
      "metadata": {
        "id": "97223ab5"
      },
      "outputs": [],
      "source": [
        "len(data.raw_ratings) #100000건"
      ]
    },
    {
      "cell_type": "code",
      "execution_count": null,
      "id": "19a5beda",
      "metadata": {
        "id": "19a5beda"
      },
      "outputs": [],
      "source": [
        "df = pd.read_csv('ml-100k.zip')\n",
        "df.head()"
      ]
    },
    {
      "cell_type": "code",
      "execution_count": null,
      "id": "6c38b1de",
      "metadata": {
        "id": "6c38b1de"
      },
      "outputs": [],
      "source": [
        "# df를 data_raw_ratings 형식으로 바꾸기"
      ]
    },
    {
      "cell_type": "code",
      "execution_count": null,
      "id": "0c6b187c",
      "metadata": {
        "id": "0c6b187c"
      },
      "outputs": [],
      "source": [
        "reader=Reader(rating_scale=(1,5))"
      ]
    },
    {
      "cell_type": "code",
      "execution_count": null,
      "id": "9c70b233",
      "metadata": {
        "id": "9c70b233"
      },
      "outputs": [],
      "source": [
        "#df가 사용자id, 상품id, 평점, 시간 순서임"
      ]
    },
    {
      "cell_type": "code",
      "execution_count": null,
      "id": "5ab090c0",
      "metadata": {
        "id": "5ab090c0"
      },
      "outputs": [],
      "source": [
        "df.columns"
      ]
    },
    {
      "cell_type": "code",
      "execution_count": null,
      "id": "9dbe4abf",
      "metadata": {
        "id": "9dbe4abf"
      },
      "outputs": [],
      "source": [
        "df=df[['user_id', 'item_id', 'rating']]"
      ]
    },
    {
      "cell_type": "code",
      "execution_count": null,
      "id": "a6268933",
      "metadata": {
        "id": "a6268933"
      },
      "outputs": [],
      "source": [
        "df"
      ]
    },
    {
      "cell_type": "code",
      "execution_count": null,
      "id": "fc542686",
      "metadata": {
        "id": "fc542686"
      },
      "outputs": [],
      "source": [
        "data=Dataset.load_from_df(df, reader)"
      ]
    },
    {
      "cell_type": "code",
      "execution_count": null,
      "id": "03ebee19",
      "metadata": {
        "id": "03ebee19"
      },
      "outputs": [],
      "source": [
        "from surprise.model_selection import train_test_split"
      ]
    },
    {
      "cell_type": "code",
      "execution_count": null,
      "id": "d94be7ff",
      "metadata": {
        "id": "d94be7ff"
      },
      "outputs": [],
      "source": [
        "trainset, testset = train_test_split(data, test_size=.2, random_state=42)"
      ]
    },
    {
      "cell_type": "code",
      "execution_count": null,
      "id": "ec240f53",
      "metadata": {
        "id": "ec240f53"
      },
      "outputs": [],
      "source": [
        "svd=SVD()\n",
        "svd.fit(trainset)"
      ]
    },
    {
      "cell_type": "code",
      "execution_count": null,
      "id": "857712cd",
      "metadata": {
        "id": "857712cd"
      },
      "outputs": [],
      "source": [
        "pred=svd.test(testset)"
      ]
    },
    {
      "cell_type": "code",
      "execution_count": null,
      "id": "bcfba9c4",
      "metadata": {
        "id": "bcfba9c4"
      },
      "outputs": [],
      "source": [
        "pred[0]"
      ]
    },
    {
      "cell_type": "code",
      "execution_count": null,
      "id": "995fb4ac",
      "metadata": {
        "id": "995fb4ac"
      },
      "outputs": [],
      "source": [
        "pred[1]"
      ]
    },
    {
      "cell_type": "code",
      "execution_count": null,
      "id": "d5dbc1c7",
      "metadata": {
        "id": "d5dbc1c7"
      },
      "outputs": [],
      "source": [
        "from surprise import accuracy"
      ]
    },
    {
      "cell_type": "code",
      "execution_count": null,
      "id": "d844c156",
      "metadata": {
        "id": "d844c156"
      },
      "outputs": [],
      "source": [
        "accuracy.mae(pred) # 절대값, 낮으면 낮을수록 좋은 모델, 낮추기 위해서는 튜닝해야됨"
      ]
    },
    {
      "cell_type": "code",
      "execution_count": null,
      "id": "b0e7e3ad",
      "metadata": {
        "id": "b0e7e3ad"
      },
      "outputs": [],
      "source": [
        "accuracy.rmse(pred)"
      ]
    },
    {
      "cell_type": "code",
      "execution_count": null,
      "id": "019bdaee",
      "metadata": {
        "id": "019bdaee"
      },
      "outputs": [],
      "source": [
        "testset"
      ]
    },
    {
      "cell_type": "code",
      "execution_count": null,
      "id": "1b22b734",
      "metadata": {
        "id": "1b22b734"
      },
      "outputs": [],
      "source": [
        "svd.predict(371,210) #문자열로 하기, 틀린 방법, 문자로 넣어야됨 무조건, 숫자로 넣으면 숫자코드로 인식이 됨"
      ]
    },
    {
      "cell_type": "code",
      "execution_count": null,
      "id": "ee5825e9",
      "metadata": {
        "id": "ee5825e9"
      },
      "outputs": [],
      "source": [
        "svd.predict(\"371\",\"210\")"
      ]
    },
    {
      "cell_type": "code",
      "execution_count": null,
      "id": "442a552f",
      "metadata": {
        "id": "442a552f"
      },
      "outputs": [],
      "source": [
        "svd.predict(str(371),str(210))"
      ]
    },
    {
      "cell_type": "code",
      "execution_count": null,
      "id": "8b0ad8e4",
      "metadata": {
        "id": "8b0ad8e4"
      },
      "outputs": [],
      "source": [
        "svd.predict(\"371\",\"1\")"
      ]
    },
    {
      "cell_type": "code",
      "execution_count": null,
      "id": "9c0b3f5e",
      "metadata": {
        "id": "9c0b3f5e"
      },
      "outputs": [],
      "source": []
    }
  ],
  "metadata": {
    "kernelspec": {
      "display_name": "Python 3 (ipykernel)",
      "language": "python",
      "name": "python3"
    },
    "language_info": {
      "codemirror_mode": {
        "name": "ipython",
        "version": 3
      },
      "file_extension": ".py",
      "mimetype": "text/x-python",
      "name": "python",
      "nbconvert_exporter": "python",
      "pygments_lexer": "ipython3",
      "version": "3.11.4"
    },
    "colab": {
      "provenance": [],
      "include_colab_link": true
    }
  },
  "nbformat": 4,
  "nbformat_minor": 5
}